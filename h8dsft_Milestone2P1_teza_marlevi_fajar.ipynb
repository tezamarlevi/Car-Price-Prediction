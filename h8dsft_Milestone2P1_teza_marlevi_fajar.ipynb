{
 "cells": [
  {
   "cell_type": "markdown",
   "metadata": {},
   "source": [
    "# **MILESTONE 2 PHASE 1**"
   ]
  },
  {
   "cell_type": "markdown",
   "metadata": {},
   "source": [
    "# **INTRODUCTION**"
   ]
  },
  {
   "cell_type": "markdown",
   "metadata": {},
   "source": [
    "Name : Teza Marlevi Fajar\n",
    "\n",
    "Batch : 11\n",
    "\n",
    "Dataset :\n",
    "\n",
    "USA_cars_datasets\n",
    "\n",
    "https://www.kaggle.com/datasets/doaaalsenani/usa-cers-dataset\n",
    "\n",
    "---\n",
    "**Assumption** \n",
    "\n",
    "I am a junior data scientist at a company called Rockstar Automotive, the company is engaged in buying and selling new and used cars. My job is to create a model to predict the price of potential buyers. In this case I use the Regression algorithm. \n",
    "\n"
   ]
  },
  {
   "cell_type": "markdown",
   "metadata": {},
   "source": [
    "**Dataset**\n",
    "\n",
    "US Cars'data was scraped from AUCTION EXPORT.com. This dataset included Information about 28 brands of clean and used vehicles for sale in US. Twelve features were assembled for each car in the dataset.\n",
    "\n",
    "* Price : The sale price of the vehicle in the ads\n",
    "* Years : The vehicle registration year\n",
    "* Brand : The brand of car\n",
    "* Model : model of the vehicle\n",
    "* Color : Color of the vehicle\n",
    "* State/City : The location in which the car is being available for purchase\n",
    "* Mileage : miles traveled by vehicle\n",
    "* Vin : The vehicle identification number is a collection of 17 characters (digits and capital letters)\n",
    "* Title Status : This feature included binary classification, which are clean title vehicles and salvage insurance\n",
    "* Lot : A lot number is an identification number assigned to a particular quantity or lot of material from a single manufacturer.For cars, a lot number is combined with a serial number to form the Vehicle Identification Number.\n",
    "* Condition : Time"
   ]
  },
  {
   "cell_type": "markdown",
   "metadata": {},
   "source": [
    "# **IMPORTING LIBRARY**"
   ]
  },
  {
   "cell_type": "code",
   "execution_count": 1,
   "metadata": {},
   "outputs": [],
   "source": [
    "import pandas as pd\n",
    "import numpy as np\n",
    "import matplotlib.pyplot as plt\n",
    "import seaborn as sns\n",
    "import pickle\n",
    "\n",
    "from sklearn.model_selection import train_test_split, GridSearchCV\n",
    "from sklearn.preprocessing import MinMaxScaler\n",
    "from sklearn.preprocessing import OneHotEncoder\n",
    "from sklearn.pipeline import Pipeline\n",
    "from sklearn.compose import ColumnTransformer\n",
    "from sklearn.metrics import mean_absolute_error\n",
    "from feature_engine.outliers import Winsorizer\n",
    "from sklearn.linear_model import Lasso, Ridge\n",
    "from sklearn.svm import SVR\n",
    "from sklearn.neighbors import KNeighborsRegressor\n"
   ]
  },
  {
   "cell_type": "markdown",
   "metadata": {},
   "source": [
    "## Fucntion"
   ]
  },
  {
   "cell_type": "markdown",
   "metadata": {},
   "source": [
    "In this section I will create functions for some case handlers in model generation."
   ]
  },
  {
   "cell_type": "code",
   "execution_count": 2,
   "metadata": {},
   "outputs": [],
   "source": [
    "# Make Fucntion for check outliers\n",
    "\n",
    "def diag_outlier_plots(data):\n",
    "    for col in data :\n",
    "        plt.figure(figsize=(16,5))\n",
    "\n",
    "        #Histogram\n",
    "        plt.subplot(1,2,1)\n",
    "        sns.histplot(data[col], bins=30, linewidth=0.5)\n",
    "        plt.title('Histogram')\n",
    "\n",
    "        #boxplot\n",
    "        plt.subplot(1,2,2)\n",
    "        sns.boxplot(y=data[col], linewidth=0.5)\n",
    "        plt.title('Boxplot')\n",
    "        plt.show()"
   ]
  },
  {
   "cell_type": "code",
   "execution_count": 3,
   "metadata": {},
   "outputs": [],
   "source": [
    "# Make Function for check distribution\n",
    "\n",
    "def check_dist(data) :\n",
    "    dist = data.skew(numeric_only=True)\n",
    "    normal_dist = []\n",
    "    skew_dist = []\n",
    "\n",
    "    for i in range(len(dist)):\n",
    "        if dist.values[i] < -0.5:\n",
    "            skew_dist.append(dist.index[i])\n",
    "        elif dist.values[i] > 0.5:\n",
    "            skew_dist.append(dist.index[i])\n",
    "        else:\n",
    "            normal_dist.append(dist.index[i])\n",
    "\n",
    "    print('skew_dist :', skew_dist)\n",
    "    print(\"==========\"*15)\n",
    "    # normal_dist\n",
    "    print('normal_dist :',normal_dist)"
   ]
  },
  {
   "cell_type": "code",
   "execution_count": 4,
   "metadata": {},
   "outputs": [],
   "source": [
    "# Make Fucntion for check missing value\n",
    "\n",
    "def detect_missval(df):\n",
    "    global df_missval\n",
    "    df_missval = pd.DataFrame(columns=['Columns Name','Missing Count','Missing Percentage'])\n",
    "    for i in range(len(df.columns)):\n",
    "        if df.iloc[:,i].isnull().sum() != 0:\n",
    "            df_missval.loc[i] = [df.columns[i], \n",
    "                                df.iloc[:,i].isnull().sum(), \n",
    "                                df.iloc[:,i].isnull().sum()/len(df.iloc[:,i])*100]\n",
    "    return df_missval"
   ]
  },
  {
   "cell_type": "markdown",
   "metadata": {},
   "source": [
    "# **DATA LOADING**"
   ]
  },
  {
   "cell_type": "code",
   "execution_count": 5,
   "metadata": {},
   "outputs": [],
   "source": [
    "# Load Dataset\n",
    "data = pd.read_csv('USA_cars_datasets.csv')"
   ]
  },
  {
   "cell_type": "code",
   "execution_count": 6,
   "metadata": {},
   "outputs": [
    {
     "data": {
      "text/html": [
       "<div>\n",
       "<style scoped>\n",
       "    .dataframe tbody tr th:only-of-type {\n",
       "        vertical-align: middle;\n",
       "    }\n",
       "\n",
       "    .dataframe tbody tr th {\n",
       "        vertical-align: top;\n",
       "    }\n",
       "\n",
       "    .dataframe thead th {\n",
       "        text-align: right;\n",
       "    }\n",
       "</style>\n",
       "<table border=\"1\" class=\"dataframe\">\n",
       "  <thead>\n",
       "    <tr style=\"text-align: right;\">\n",
       "      <th></th>\n",
       "      <th>Unnamed: 0</th>\n",
       "      <th>price</th>\n",
       "      <th>brand</th>\n",
       "      <th>model</th>\n",
       "      <th>year</th>\n",
       "      <th>title_status</th>\n",
       "      <th>mileage</th>\n",
       "      <th>color</th>\n",
       "      <th>vin</th>\n",
       "      <th>lot</th>\n",
       "      <th>state</th>\n",
       "      <th>country</th>\n",
       "      <th>condition</th>\n",
       "    </tr>\n",
       "  </thead>\n",
       "  <tbody>\n",
       "    <tr>\n",
       "      <th>0</th>\n",
       "      <td>0</td>\n",
       "      <td>6300</td>\n",
       "      <td>toyota</td>\n",
       "      <td>cruiser</td>\n",
       "      <td>2008</td>\n",
       "      <td>clean vehicle</td>\n",
       "      <td>274117.0</td>\n",
       "      <td>black</td>\n",
       "      <td>jtezu11f88k007763</td>\n",
       "      <td>159348797</td>\n",
       "      <td>new jersey</td>\n",
       "      <td>usa</td>\n",
       "      <td>10 days left</td>\n",
       "    </tr>\n",
       "    <tr>\n",
       "      <th>1</th>\n",
       "      <td>1</td>\n",
       "      <td>2899</td>\n",
       "      <td>ford</td>\n",
       "      <td>se</td>\n",
       "      <td>2011</td>\n",
       "      <td>clean vehicle</td>\n",
       "      <td>190552.0</td>\n",
       "      <td>silver</td>\n",
       "      <td>2fmdk3gc4bbb02217</td>\n",
       "      <td>166951262</td>\n",
       "      <td>tennessee</td>\n",
       "      <td>usa</td>\n",
       "      <td>6 days left</td>\n",
       "    </tr>\n",
       "    <tr>\n",
       "      <th>2</th>\n",
       "      <td>2</td>\n",
       "      <td>5350</td>\n",
       "      <td>dodge</td>\n",
       "      <td>mpv</td>\n",
       "      <td>2018</td>\n",
       "      <td>clean vehicle</td>\n",
       "      <td>39590.0</td>\n",
       "      <td>silver</td>\n",
       "      <td>3c4pdcgg5jt346413</td>\n",
       "      <td>167655728</td>\n",
       "      <td>georgia</td>\n",
       "      <td>usa</td>\n",
       "      <td>2 days left</td>\n",
       "    </tr>\n",
       "    <tr>\n",
       "      <th>3</th>\n",
       "      <td>3</td>\n",
       "      <td>25000</td>\n",
       "      <td>ford</td>\n",
       "      <td>door</td>\n",
       "      <td>2014</td>\n",
       "      <td>clean vehicle</td>\n",
       "      <td>64146.0</td>\n",
       "      <td>blue</td>\n",
       "      <td>1ftfw1et4efc23745</td>\n",
       "      <td>167753855</td>\n",
       "      <td>virginia</td>\n",
       "      <td>usa</td>\n",
       "      <td>22 hours left</td>\n",
       "    </tr>\n",
       "    <tr>\n",
       "      <th>4</th>\n",
       "      <td>4</td>\n",
       "      <td>27700</td>\n",
       "      <td>chevrolet</td>\n",
       "      <td>1500</td>\n",
       "      <td>2018</td>\n",
       "      <td>clean vehicle</td>\n",
       "      <td>6654.0</td>\n",
       "      <td>red</td>\n",
       "      <td>3gcpcrec2jg473991</td>\n",
       "      <td>167763266</td>\n",
       "      <td>florida</td>\n",
       "      <td>usa</td>\n",
       "      <td>22 hours left</td>\n",
       "    </tr>\n",
       "  </tbody>\n",
       "</table>\n",
       "</div>"
      ],
      "text/plain": [
       "   Unnamed: 0  price      brand    model  year   title_status   mileage  \\\n",
       "0           0   6300     toyota  cruiser  2008  clean vehicle  274117.0   \n",
       "1           1   2899       ford       se  2011  clean vehicle  190552.0   \n",
       "2           2   5350      dodge      mpv  2018  clean vehicle   39590.0   \n",
       "3           3  25000       ford     door  2014  clean vehicle   64146.0   \n",
       "4           4  27700  chevrolet     1500  2018  clean vehicle    6654.0   \n",
       "\n",
       "    color                  vin        lot       state country      condition  \n",
       "0   black    jtezu11f88k007763  159348797  new jersey     usa   10 days left  \n",
       "1  silver    2fmdk3gc4bbb02217  166951262   tennessee     usa    6 days left  \n",
       "2  silver    3c4pdcgg5jt346413  167655728     georgia     usa    2 days left  \n",
       "3    blue    1ftfw1et4efc23745  167753855    virginia     usa  22 hours left  \n",
       "4     red    3gcpcrec2jg473991  167763266     florida     usa  22 hours left  "
      ]
     },
     "execution_count": 6,
     "metadata": {},
     "output_type": "execute_result"
    }
   ],
   "source": [
    "# Display Dataset\n",
    "data.head()"
   ]
  },
  {
   "cell_type": "markdown",
   "metadata": {},
   "source": [
    "Display 5 column from Top"
   ]
  },
  {
   "cell_type": "code",
   "execution_count": 7,
   "metadata": {},
   "outputs": [
    {
     "data": {
      "text/html": [
       "<div>\n",
       "<style scoped>\n",
       "    .dataframe tbody tr th:only-of-type {\n",
       "        vertical-align: middle;\n",
       "    }\n",
       "\n",
       "    .dataframe tbody tr th {\n",
       "        vertical-align: top;\n",
       "    }\n",
       "\n",
       "    .dataframe thead th {\n",
       "        text-align: right;\n",
       "    }\n",
       "</style>\n",
       "<table border=\"1\" class=\"dataframe\">\n",
       "  <thead>\n",
       "    <tr style=\"text-align: right;\">\n",
       "      <th></th>\n",
       "      <th>Unnamed: 0</th>\n",
       "      <th>price</th>\n",
       "      <th>brand</th>\n",
       "      <th>model</th>\n",
       "      <th>year</th>\n",
       "      <th>title_status</th>\n",
       "      <th>mileage</th>\n",
       "      <th>color</th>\n",
       "      <th>vin</th>\n",
       "      <th>lot</th>\n",
       "      <th>state</th>\n",
       "      <th>country</th>\n",
       "      <th>condition</th>\n",
       "    </tr>\n",
       "  </thead>\n",
       "  <tbody>\n",
       "    <tr>\n",
       "      <th>0</th>\n",
       "      <td>0</td>\n",
       "      <td>6300</td>\n",
       "      <td>toyota</td>\n",
       "      <td>cruiser</td>\n",
       "      <td>2008</td>\n",
       "      <td>clean vehicle</td>\n",
       "      <td>274117.0</td>\n",
       "      <td>black</td>\n",
       "      <td>jtezu11f88k007763</td>\n",
       "      <td>159348797</td>\n",
       "      <td>new jersey</td>\n",
       "      <td>usa</td>\n",
       "      <td>10 days left</td>\n",
       "    </tr>\n",
       "    <tr>\n",
       "      <th>1</th>\n",
       "      <td>1</td>\n",
       "      <td>2899</td>\n",
       "      <td>ford</td>\n",
       "      <td>se</td>\n",
       "      <td>2011</td>\n",
       "      <td>clean vehicle</td>\n",
       "      <td>190552.0</td>\n",
       "      <td>silver</td>\n",
       "      <td>2fmdk3gc4bbb02217</td>\n",
       "      <td>166951262</td>\n",
       "      <td>tennessee</td>\n",
       "      <td>usa</td>\n",
       "      <td>6 days left</td>\n",
       "    </tr>\n",
       "    <tr>\n",
       "      <th>2</th>\n",
       "      <td>2</td>\n",
       "      <td>5350</td>\n",
       "      <td>dodge</td>\n",
       "      <td>mpv</td>\n",
       "      <td>2018</td>\n",
       "      <td>clean vehicle</td>\n",
       "      <td>39590.0</td>\n",
       "      <td>silver</td>\n",
       "      <td>3c4pdcgg5jt346413</td>\n",
       "      <td>167655728</td>\n",
       "      <td>georgia</td>\n",
       "      <td>usa</td>\n",
       "      <td>2 days left</td>\n",
       "    </tr>\n",
       "    <tr>\n",
       "      <th>3</th>\n",
       "      <td>3</td>\n",
       "      <td>25000</td>\n",
       "      <td>ford</td>\n",
       "      <td>door</td>\n",
       "      <td>2014</td>\n",
       "      <td>clean vehicle</td>\n",
       "      <td>64146.0</td>\n",
       "      <td>blue</td>\n",
       "      <td>1ftfw1et4efc23745</td>\n",
       "      <td>167753855</td>\n",
       "      <td>virginia</td>\n",
       "      <td>usa</td>\n",
       "      <td>22 hours left</td>\n",
       "    </tr>\n",
       "    <tr>\n",
       "      <th>4</th>\n",
       "      <td>4</td>\n",
       "      <td>27700</td>\n",
       "      <td>chevrolet</td>\n",
       "      <td>1500</td>\n",
       "      <td>2018</td>\n",
       "      <td>clean vehicle</td>\n",
       "      <td>6654.0</td>\n",
       "      <td>red</td>\n",
       "      <td>3gcpcrec2jg473991</td>\n",
       "      <td>167763266</td>\n",
       "      <td>florida</td>\n",
       "      <td>usa</td>\n",
       "      <td>22 hours left</td>\n",
       "    </tr>\n",
       "  </tbody>\n",
       "</table>\n",
       "</div>"
      ],
      "text/plain": [
       "   Unnamed: 0  price      brand    model  year   title_status   mileage  \\\n",
       "0           0   6300     toyota  cruiser  2008  clean vehicle  274117.0   \n",
       "1           1   2899       ford       se  2011  clean vehicle  190552.0   \n",
       "2           2   5350      dodge      mpv  2018  clean vehicle   39590.0   \n",
       "3           3  25000       ford     door  2014  clean vehicle   64146.0   \n",
       "4           4  27700  chevrolet     1500  2018  clean vehicle    6654.0   \n",
       "\n",
       "    color                  vin        lot       state country      condition  \n",
       "0   black    jtezu11f88k007763  159348797  new jersey     usa   10 days left  \n",
       "1  silver    2fmdk3gc4bbb02217  166951262   tennessee     usa    6 days left  \n",
       "2  silver    3c4pdcgg5jt346413  167655728     georgia     usa    2 days left  \n",
       "3    blue    1ftfw1et4efc23745  167753855    virginia     usa  22 hours left  \n",
       "4     red    3gcpcrec2jg473991  167763266     florida     usa  22 hours left  "
      ]
     },
     "execution_count": 7,
     "metadata": {},
     "output_type": "execute_result"
    }
   ],
   "source": [
    "data.head()"
   ]
  },
  {
   "cell_type": "markdown",
   "metadata": {},
   "source": [
    "Display 5 columns from Bottom"
   ]
  },
  {
   "cell_type": "code",
   "execution_count": 8,
   "metadata": {},
   "outputs": [
    {
     "data": {
      "text/html": [
       "<div>\n",
       "<style scoped>\n",
       "    .dataframe tbody tr th:only-of-type {\n",
       "        vertical-align: middle;\n",
       "    }\n",
       "\n",
       "    .dataframe tbody tr th {\n",
       "        vertical-align: top;\n",
       "    }\n",
       "\n",
       "    .dataframe thead th {\n",
       "        text-align: right;\n",
       "    }\n",
       "</style>\n",
       "<table border=\"1\" class=\"dataframe\">\n",
       "  <thead>\n",
       "    <tr style=\"text-align: right;\">\n",
       "      <th></th>\n",
       "      <th>Unnamed: 0</th>\n",
       "      <th>price</th>\n",
       "      <th>brand</th>\n",
       "      <th>model</th>\n",
       "      <th>year</th>\n",
       "      <th>title_status</th>\n",
       "      <th>mileage</th>\n",
       "      <th>color</th>\n",
       "      <th>vin</th>\n",
       "      <th>lot</th>\n",
       "      <th>state</th>\n",
       "      <th>country</th>\n",
       "      <th>condition</th>\n",
       "    </tr>\n",
       "  </thead>\n",
       "  <tbody>\n",
       "    <tr>\n",
       "      <th>2494</th>\n",
       "      <td>2494</td>\n",
       "      <td>7800</td>\n",
       "      <td>nissan</td>\n",
       "      <td>versa</td>\n",
       "      <td>2019</td>\n",
       "      <td>clean vehicle</td>\n",
       "      <td>23609.0</td>\n",
       "      <td>red</td>\n",
       "      <td>3n1cn7ap9kl880319</td>\n",
       "      <td>167722715</td>\n",
       "      <td>california</td>\n",
       "      <td>usa</td>\n",
       "      <td>1 days left</td>\n",
       "    </tr>\n",
       "    <tr>\n",
       "      <th>2495</th>\n",
       "      <td>2495</td>\n",
       "      <td>9200</td>\n",
       "      <td>nissan</td>\n",
       "      <td>versa</td>\n",
       "      <td>2018</td>\n",
       "      <td>clean vehicle</td>\n",
       "      <td>34553.0</td>\n",
       "      <td>silver</td>\n",
       "      <td>3n1cn7ap5jl884088</td>\n",
       "      <td>167762225</td>\n",
       "      <td>florida</td>\n",
       "      <td>usa</td>\n",
       "      <td>21 hours left</td>\n",
       "    </tr>\n",
       "    <tr>\n",
       "      <th>2496</th>\n",
       "      <td>2496</td>\n",
       "      <td>9200</td>\n",
       "      <td>nissan</td>\n",
       "      <td>versa</td>\n",
       "      <td>2018</td>\n",
       "      <td>clean vehicle</td>\n",
       "      <td>31594.0</td>\n",
       "      <td>silver</td>\n",
       "      <td>3n1cn7ap9jl884191</td>\n",
       "      <td>167762226</td>\n",
       "      <td>florida</td>\n",
       "      <td>usa</td>\n",
       "      <td>21 hours left</td>\n",
       "    </tr>\n",
       "    <tr>\n",
       "      <th>2497</th>\n",
       "      <td>2497</td>\n",
       "      <td>9200</td>\n",
       "      <td>nissan</td>\n",
       "      <td>versa</td>\n",
       "      <td>2018</td>\n",
       "      <td>clean vehicle</td>\n",
       "      <td>32557.0</td>\n",
       "      <td>black</td>\n",
       "      <td>3n1cn7ap3jl883263</td>\n",
       "      <td>167762227</td>\n",
       "      <td>florida</td>\n",
       "      <td>usa</td>\n",
       "      <td>2 days left</td>\n",
       "    </tr>\n",
       "    <tr>\n",
       "      <th>2498</th>\n",
       "      <td>2498</td>\n",
       "      <td>9200</td>\n",
       "      <td>nissan</td>\n",
       "      <td>versa</td>\n",
       "      <td>2018</td>\n",
       "      <td>clean vehicle</td>\n",
       "      <td>31371.0</td>\n",
       "      <td>silver</td>\n",
       "      <td>3n1cn7ap4jl884311</td>\n",
       "      <td>167762228</td>\n",
       "      <td>florida</td>\n",
       "      <td>usa</td>\n",
       "      <td>21 hours left</td>\n",
       "    </tr>\n",
       "  </tbody>\n",
       "</table>\n",
       "</div>"
      ],
      "text/plain": [
       "      Unnamed: 0  price   brand  model  year   title_status  mileage   color  \\\n",
       "2494        2494   7800  nissan  versa  2019  clean vehicle  23609.0     red   \n",
       "2495        2495   9200  nissan  versa  2018  clean vehicle  34553.0  silver   \n",
       "2496        2496   9200  nissan  versa  2018  clean vehicle  31594.0  silver   \n",
       "2497        2497   9200  nissan  versa  2018  clean vehicle  32557.0   black   \n",
       "2498        2498   9200  nissan  versa  2018  clean vehicle  31371.0  silver   \n",
       "\n",
       "                      vin        lot       state country      condition  \n",
       "2494    3n1cn7ap9kl880319  167722715  california     usa    1 days left  \n",
       "2495    3n1cn7ap5jl884088  167762225     florida     usa  21 hours left  \n",
       "2496    3n1cn7ap9jl884191  167762226     florida     usa  21 hours left  \n",
       "2497    3n1cn7ap3jl883263  167762227     florida     usa    2 days left  \n",
       "2498    3n1cn7ap4jl884311  167762228     florida     usa  21 hours left  "
      ]
     },
     "execution_count": 8,
     "metadata": {},
     "output_type": "execute_result"
    }
   ],
   "source": [
    "data.tail()"
   ]
  },
  {
   "cell_type": "markdown",
   "metadata": {},
   "source": [
    "Dupiclate dataset"
   ]
  },
  {
   "cell_type": "code",
   "execution_count": 9,
   "metadata": {},
   "outputs": [],
   "source": [
    "data_new = data.copy()"
   ]
  },
  {
   "cell_type": "markdown",
   "metadata": {},
   "source": [
    "Check Dimensional"
   ]
  },
  {
   "cell_type": "code",
   "execution_count": 10,
   "metadata": {},
   "outputs": [
    {
     "data": {
      "text/plain": [
       "(2499, 13)"
      ]
     },
     "execution_count": 10,
     "metadata": {},
     "output_type": "execute_result"
    }
   ],
   "source": [
    "data.shape"
   ]
  },
  {
   "cell_type": "markdown",
   "metadata": {},
   "source": [
    "We can check information in dataset."
   ]
  },
  {
   "cell_type": "code",
   "execution_count": 11,
   "metadata": {},
   "outputs": [
    {
     "name": "stdout",
     "output_type": "stream",
     "text": [
      "<class 'pandas.core.frame.DataFrame'>\n",
      "RangeIndex: 2499 entries, 0 to 2498\n",
      "Data columns (total 13 columns):\n",
      " #   Column        Non-Null Count  Dtype  \n",
      "---  ------        --------------  -----  \n",
      " 0   Unnamed: 0    2499 non-null   int64  \n",
      " 1   price         2499 non-null   int64  \n",
      " 2   brand         2499 non-null   object \n",
      " 3   model         2499 non-null   object \n",
      " 4   year          2499 non-null   int64  \n",
      " 5   title_status  2499 non-null   object \n",
      " 6   mileage       2499 non-null   float64\n",
      " 7   color         2499 non-null   object \n",
      " 8   vin           2499 non-null   object \n",
      " 9   lot           2499 non-null   int64  \n",
      " 10  state         2499 non-null   object \n",
      " 11  country       2499 non-null   object \n",
      " 12  condition     2499 non-null   object \n",
      "dtypes: float64(1), int64(4), object(8)\n",
      "memory usage: 253.9+ KB\n"
     ]
    }
   ],
   "source": [
    "data.info()"
   ]
  },
  {
   "cell_type": "markdown",
   "metadata": {},
   "source": [
    "Now we will delete the `Unnamed: 0` column because it is the same as the index column"
   ]
  },
  {
   "cell_type": "code",
   "execution_count": 12,
   "metadata": {},
   "outputs": [],
   "source": [
    "data.drop(columns='Unnamed: 0', inplace=True)"
   ]
  },
  {
   "cell_type": "code",
   "execution_count": 13,
   "metadata": {},
   "outputs": [
    {
     "data": {
      "text/html": [
       "<div>\n",
       "<style scoped>\n",
       "    .dataframe tbody tr th:only-of-type {\n",
       "        vertical-align: middle;\n",
       "    }\n",
       "\n",
       "    .dataframe tbody tr th {\n",
       "        vertical-align: top;\n",
       "    }\n",
       "\n",
       "    .dataframe thead th {\n",
       "        text-align: right;\n",
       "    }\n",
       "</style>\n",
       "<table border=\"1\" class=\"dataframe\">\n",
       "  <thead>\n",
       "    <tr style=\"text-align: right;\">\n",
       "      <th></th>\n",
       "      <th>price</th>\n",
       "      <th>brand</th>\n",
       "      <th>model</th>\n",
       "      <th>year</th>\n",
       "      <th>title_status</th>\n",
       "      <th>mileage</th>\n",
       "      <th>color</th>\n",
       "      <th>vin</th>\n",
       "      <th>lot</th>\n",
       "      <th>state</th>\n",
       "      <th>country</th>\n",
       "      <th>condition</th>\n",
       "    </tr>\n",
       "  </thead>\n",
       "  <tbody>\n",
       "    <tr>\n",
       "      <th>0</th>\n",
       "      <td>6300</td>\n",
       "      <td>toyota</td>\n",
       "      <td>cruiser</td>\n",
       "      <td>2008</td>\n",
       "      <td>clean vehicle</td>\n",
       "      <td>274117.0</td>\n",
       "      <td>black</td>\n",
       "      <td>jtezu11f88k007763</td>\n",
       "      <td>159348797</td>\n",
       "      <td>new jersey</td>\n",
       "      <td>usa</td>\n",
       "      <td>10 days left</td>\n",
       "    </tr>\n",
       "    <tr>\n",
       "      <th>1</th>\n",
       "      <td>2899</td>\n",
       "      <td>ford</td>\n",
       "      <td>se</td>\n",
       "      <td>2011</td>\n",
       "      <td>clean vehicle</td>\n",
       "      <td>190552.0</td>\n",
       "      <td>silver</td>\n",
       "      <td>2fmdk3gc4bbb02217</td>\n",
       "      <td>166951262</td>\n",
       "      <td>tennessee</td>\n",
       "      <td>usa</td>\n",
       "      <td>6 days left</td>\n",
       "    </tr>\n",
       "    <tr>\n",
       "      <th>2</th>\n",
       "      <td>5350</td>\n",
       "      <td>dodge</td>\n",
       "      <td>mpv</td>\n",
       "      <td>2018</td>\n",
       "      <td>clean vehicle</td>\n",
       "      <td>39590.0</td>\n",
       "      <td>silver</td>\n",
       "      <td>3c4pdcgg5jt346413</td>\n",
       "      <td>167655728</td>\n",
       "      <td>georgia</td>\n",
       "      <td>usa</td>\n",
       "      <td>2 days left</td>\n",
       "    </tr>\n",
       "    <tr>\n",
       "      <th>3</th>\n",
       "      <td>25000</td>\n",
       "      <td>ford</td>\n",
       "      <td>door</td>\n",
       "      <td>2014</td>\n",
       "      <td>clean vehicle</td>\n",
       "      <td>64146.0</td>\n",
       "      <td>blue</td>\n",
       "      <td>1ftfw1et4efc23745</td>\n",
       "      <td>167753855</td>\n",
       "      <td>virginia</td>\n",
       "      <td>usa</td>\n",
       "      <td>22 hours left</td>\n",
       "    </tr>\n",
       "    <tr>\n",
       "      <th>4</th>\n",
       "      <td>27700</td>\n",
       "      <td>chevrolet</td>\n",
       "      <td>1500</td>\n",
       "      <td>2018</td>\n",
       "      <td>clean vehicle</td>\n",
       "      <td>6654.0</td>\n",
       "      <td>red</td>\n",
       "      <td>3gcpcrec2jg473991</td>\n",
       "      <td>167763266</td>\n",
       "      <td>florida</td>\n",
       "      <td>usa</td>\n",
       "      <td>22 hours left</td>\n",
       "    </tr>\n",
       "    <tr>\n",
       "      <th>...</th>\n",
       "      <td>...</td>\n",
       "      <td>...</td>\n",
       "      <td>...</td>\n",
       "      <td>...</td>\n",
       "      <td>...</td>\n",
       "      <td>...</td>\n",
       "      <td>...</td>\n",
       "      <td>...</td>\n",
       "      <td>...</td>\n",
       "      <td>...</td>\n",
       "      <td>...</td>\n",
       "      <td>...</td>\n",
       "    </tr>\n",
       "    <tr>\n",
       "      <th>2494</th>\n",
       "      <td>7800</td>\n",
       "      <td>nissan</td>\n",
       "      <td>versa</td>\n",
       "      <td>2019</td>\n",
       "      <td>clean vehicle</td>\n",
       "      <td>23609.0</td>\n",
       "      <td>red</td>\n",
       "      <td>3n1cn7ap9kl880319</td>\n",
       "      <td>167722715</td>\n",
       "      <td>california</td>\n",
       "      <td>usa</td>\n",
       "      <td>1 days left</td>\n",
       "    </tr>\n",
       "    <tr>\n",
       "      <th>2495</th>\n",
       "      <td>9200</td>\n",
       "      <td>nissan</td>\n",
       "      <td>versa</td>\n",
       "      <td>2018</td>\n",
       "      <td>clean vehicle</td>\n",
       "      <td>34553.0</td>\n",
       "      <td>silver</td>\n",
       "      <td>3n1cn7ap5jl884088</td>\n",
       "      <td>167762225</td>\n",
       "      <td>florida</td>\n",
       "      <td>usa</td>\n",
       "      <td>21 hours left</td>\n",
       "    </tr>\n",
       "    <tr>\n",
       "      <th>2496</th>\n",
       "      <td>9200</td>\n",
       "      <td>nissan</td>\n",
       "      <td>versa</td>\n",
       "      <td>2018</td>\n",
       "      <td>clean vehicle</td>\n",
       "      <td>31594.0</td>\n",
       "      <td>silver</td>\n",
       "      <td>3n1cn7ap9jl884191</td>\n",
       "      <td>167762226</td>\n",
       "      <td>florida</td>\n",
       "      <td>usa</td>\n",
       "      <td>21 hours left</td>\n",
       "    </tr>\n",
       "    <tr>\n",
       "      <th>2497</th>\n",
       "      <td>9200</td>\n",
       "      <td>nissan</td>\n",
       "      <td>versa</td>\n",
       "      <td>2018</td>\n",
       "      <td>clean vehicle</td>\n",
       "      <td>32557.0</td>\n",
       "      <td>black</td>\n",
       "      <td>3n1cn7ap3jl883263</td>\n",
       "      <td>167762227</td>\n",
       "      <td>florida</td>\n",
       "      <td>usa</td>\n",
       "      <td>2 days left</td>\n",
       "    </tr>\n",
       "    <tr>\n",
       "      <th>2498</th>\n",
       "      <td>9200</td>\n",
       "      <td>nissan</td>\n",
       "      <td>versa</td>\n",
       "      <td>2018</td>\n",
       "      <td>clean vehicle</td>\n",
       "      <td>31371.0</td>\n",
       "      <td>silver</td>\n",
       "      <td>3n1cn7ap4jl884311</td>\n",
       "      <td>167762228</td>\n",
       "      <td>florida</td>\n",
       "      <td>usa</td>\n",
       "      <td>21 hours left</td>\n",
       "    </tr>\n",
       "  </tbody>\n",
       "</table>\n",
       "<p>2499 rows × 12 columns</p>\n",
       "</div>"
      ],
      "text/plain": [
       "      price      brand    model  year   title_status   mileage   color  \\\n",
       "0      6300     toyota  cruiser  2008  clean vehicle  274117.0   black   \n",
       "1      2899       ford       se  2011  clean vehicle  190552.0  silver   \n",
       "2      5350      dodge      mpv  2018  clean vehicle   39590.0  silver   \n",
       "3     25000       ford     door  2014  clean vehicle   64146.0    blue   \n",
       "4     27700  chevrolet     1500  2018  clean vehicle    6654.0     red   \n",
       "...     ...        ...      ...   ...            ...       ...     ...   \n",
       "2494   7800     nissan    versa  2019  clean vehicle   23609.0     red   \n",
       "2495   9200     nissan    versa  2018  clean vehicle   34553.0  silver   \n",
       "2496   9200     nissan    versa  2018  clean vehicle   31594.0  silver   \n",
       "2497   9200     nissan    versa  2018  clean vehicle   32557.0   black   \n",
       "2498   9200     nissan    versa  2018  clean vehicle   31371.0  silver   \n",
       "\n",
       "                      vin        lot       state country      condition  \n",
       "0       jtezu11f88k007763  159348797  new jersey     usa   10 days left  \n",
       "1       2fmdk3gc4bbb02217  166951262   tennessee     usa    6 days left  \n",
       "2       3c4pdcgg5jt346413  167655728     georgia     usa    2 days left  \n",
       "3       1ftfw1et4efc23745  167753855    virginia     usa  22 hours left  \n",
       "4       3gcpcrec2jg473991  167763266     florida     usa  22 hours left  \n",
       "...                   ...        ...         ...     ...            ...  \n",
       "2494    3n1cn7ap9kl880319  167722715  california     usa    1 days left  \n",
       "2495    3n1cn7ap5jl884088  167762225     florida     usa  21 hours left  \n",
       "2496    3n1cn7ap9jl884191  167762226     florida     usa  21 hours left  \n",
       "2497    3n1cn7ap3jl883263  167762227     florida     usa    2 days left  \n",
       "2498    3n1cn7ap4jl884311  167762228     florida     usa  21 hours left  \n",
       "\n",
       "[2499 rows x 12 columns]"
      ]
     },
     "execution_count": 13,
     "metadata": {},
     "output_type": "execute_result"
    }
   ],
   "source": [
    "# Display data after delete columns\n",
    "\n",
    "data"
   ]
  },
  {
   "cell_type": "markdown",
   "metadata": {},
   "source": [
    "# **EXPLORATORY DATA ANALYSIS**"
   ]
  },
  {
   "cell_type": "markdown",
   "metadata": {},
   "source": [
    "In this section, we will do grouping, query and visualization after that we have to explain the insight."
   ]
  },
  {
   "cell_type": "markdown",
   "metadata": {},
   "source": [
    "### The car brand with the highest price?"
   ]
  },
  {
   "cell_type": "code",
   "execution_count": 14,
   "metadata": {},
   "outputs": [
    {
     "data": {
      "image/png": "[encoded data removed]",
      "text/plain": [
       "<Figure size 1152x360 with 1 Axes>"
      ]
     },
     "metadata": {},
     "output_type": "display_data"
    }
   ],
   "source": [
    "sns.set(rc={'figure.figsize':(16,5)})\n",
    "plot_brand = data[['brand','price']]\n",
    "sns.barplot(data=plot_brand, x='brand', y='price', linewidth=0, ci=0)\n",
    "plt.xticks(rotation=90)\n",
    "plt.title('Brand With High Price', size=20)\n",
    "plt.show()"
   ]
  },
  {
   "cell_type": "markdown",
   "metadata": {},
   "source": [
    "*Explanation*:\n",
    "\n",
    "as we can see that Harley Davidson has the highest price, which means that the validation of this car company is fairly high.\n"
   ]
  },
  {
   "cell_type": "markdown",
   "metadata": {},
   "source": [
    "### Which is more between USA vs Canada"
   ]
  },
  {
   "cell_type": "code",
   "execution_count": 15,
   "metadata": {},
   "outputs": [
    {
     "data": {
      "text/plain": [
       "<AxesSubplot:xlabel='country', ylabel='count'>"
      ]
     },
     "execution_count": 15,
     "metadata": {},
     "output_type": "execute_result"
    },
    {
     "data": {
      "image/png": "[encoded data removed]",
      "text/plain": [
       "<Figure size 648x432 with 1 Axes>"
      ]
     },
     "metadata": {},
     "output_type": "display_data"
    }
   ],
   "source": [
    "sns.set(rc={'figure.figsize':(9,6)})\n",
    "sns.countplot(data=data, x='country')"
   ]
  },
  {
   "cell_type": "markdown",
   "metadata": {},
   "source": [
    "*Explanation*\n",
    "\n",
    "As we can see that the USA is very large compared to Canada, because in this dataset there is only 1 city originating from Canada, namely Ontario. This is because the company Rockstar Automotive has just expanded its business in Canada, we will see how sales in Canada are."
   ]
  },
  {
   "cell_type": "code",
   "execution_count": 16,
   "metadata": {},
   "outputs": [
    {
     "data": {
      "image/png": "[encoded data removed]",
      "text/plain": [
       "<Figure size 648x360 with 1 Axes>"
      ]
     },
     "metadata": {},
     "output_type": "display_data"
    }
   ],
   "source": [
    "sns.set(rc={'figure.figsize':(9,5)})\n",
    "sns.countplot(data=data.query(\"state == 'ontario'\")[['brand']], x='brand', linewidth=0)\n",
    "plt.title('Total sales in Canada', size=15)\n",
    "plt.show()"
   ]
  },
  {
   "cell_type": "markdown",
   "metadata": {},
   "source": [
    "*Explenation*\n",
    "\n",
    "As we can see, that sales in Ontario Canada, there are only 2 car brands, namely Chevrolet with a total of 1 sales and Dodge with a total of 6 sales."
   ]
  },
  {
   "cell_type": "markdown",
   "metadata": {},
   "source": [
    "### Car in New York City"
   ]
  },
  {
   "cell_type": "code",
   "execution_count": 17,
   "metadata": {},
   "outputs": [
    {
     "data": {
      "image/png": "[encoded data removed]",
      "text/plain": [
       "<Figure size 864x360 with 1 Axes>"
      ]
     },
     "metadata": {},
     "output_type": "display_data"
    }
   ],
   "source": [
    "# New York City\n",
    "\n",
    "nyc = data.query(\"state == 'new york' \")[['brand']]\n",
    "sns.set(rc={'figure.figsize':(12,5)})\n",
    "sns.countplot(data=nyc, x='brand', linewidth=0)\n",
    "plt.title('Car sales in New York', size=15)\n",
    "plt.show()"
   ]
  },
  {
   "cell_type": "markdown",
   "metadata": {},
   "source": [
    "*Explanation*\n",
    "\n",
    "As we can see that in New York City the highest sales are obtained from the Ford brand, with a total of 40 units, while the Dodge has 6 units and the Chevrolet has units."
   ]
  },
  {
   "cell_type": "markdown",
   "metadata": {},
   "source": [
    "### Car comparison by title status"
   ]
  },
  {
   "cell_type": "code",
   "execution_count": 18,
   "metadata": {},
   "outputs": [
    {
     "data": {
      "text/plain": [
       "<AxesSubplot:xlabel='title_status', ylabel='count'>"
      ]
     },
     "execution_count": 18,
     "metadata": {},
     "output_type": "execute_result"
    },
    {
     "data": {
      "image/png": "[encoded data removed]",
      "text/plain": [
       "<Figure size 576x360 with 1 Axes>"
      ]
     },
     "metadata": {},
     "output_type": "display_data"
    }
   ],
   "source": [
    "sns.set(rc={'figure.figsize':(8,5)})\n",
    "sns.countplot(data=data, x='title_status')"
   ]
  },
  {
   "cell_type": "markdown",
   "metadata": {},
   "source": [
    "*Explenation*\n",
    "\n",
    "Based on the graph above, we can see that there are more cars with clean vechicle status than cars with salvage insurance status, based on this graph we can see that the cars traded by Rockstar Automotive are average cars that have good quality, then we will see how they compare. prices from Clean Vechile and Salvage Insurance."
   ]
  },
  {
   "cell_type": "code",
   "execution_count": 19,
   "metadata": {},
   "outputs": [
    {
     "data": {
      "text/plain": [
       "<AxesSubplot:xlabel='title_status', ylabel='price'>"
      ]
     },
     "execution_count": 19,
     "metadata": {},
     "output_type": "execute_result"
    },
    {
     "data": {
      "image/png": "[encoded data removed]",
      "text/plain": [
       "<Figure size 576x360 with 1 Axes>"
      ]
     },
     "metadata": {},
     "output_type": "display_data"
    }
   ],
   "source": [
    "sns.violinplot(data=data, x='title_status', y='price')"
   ]
  },
  {
   "cell_type": "markdown",
   "metadata": {},
   "source": [
    "*Explanation* \n",
    "\n",
    "As we can see that cars with Clean Vechile status have a price of up to 80000 US dollars, while cars with Salvage Insurance status only have a distribution in the area of around 10000 US dollars. Based on the results of this analysis, we can see that cars with salvage insurance status have a selling value. The low one."
   ]
  },
  {
   "cell_type": "markdown",
   "metadata": {},
   "source": [
    "### Korelasi"
   ]
  },
  {
   "cell_type": "code",
   "execution_count": 20,
   "metadata": {},
   "outputs": [
    {
     "data": {
      "text/plain": [
       "<AxesSubplot:>"
      ]
     },
     "execution_count": 20,
     "metadata": {},
     "output_type": "execute_result"
    },
    {
     "data": {
      "image/png": "[encoded data removed]",
      "text/plain": [
       "<Figure size 720x720 with 2 Axes>"
      ]
     },
     "metadata": {},
     "output_type": "display_data"
    }
   ],
   "source": [
    "sns.set(rc={'figure.figsize':(10,10)})\n",
    "sns.heatmap(data.corr(), annot=True)"
   ]
  },
  {
   "cell_type": "markdown",
   "metadata": {},
   "source": [
    "*Explanation*\n",
    "\n",
    "Based on the graph above, we can see that of the three features, year mileage and lot, have a correlation with price, in this case we can consider the data to be used as features in modeling."
   ]
  },
  {
   "cell_type": "markdown",
   "metadata": {},
   "source": [
    "# **DATA PREPROCESSING**"
   ]
  },
  {
   "cell_type": "markdown",
   "metadata": {},
   "source": [
    "This section contains the process of preparing data for the model training process, such as dividing the data into train-dev-test, data transformation (normalization, encoding, etc.), and other necessary processes."
   ]
  },
  {
   "cell_type": "markdown",
   "metadata": {},
   "source": [
    "## Get Model Inference"
   ]
  },
  {
   "cell_type": "markdown",
   "metadata": {},
   "source": [
    "Before doing data inference, I will determine the data to be used as Target and Feature. The target I use is `Price` here we will use price as a target because we want to predict the price. The columns I don't use are vin, lot, state and condition."
   ]
  },
  {
   "cell_type": "markdown",
   "metadata": {},
   "source": [
    "I'm not going to use the price column which is 0, why not just imputer it? because in my opinion, if I do imputer later the results I get will be distorted and not pure results."
   ]
  },
  {
   "cell_type": "code",
   "execution_count": 21,
   "metadata": {},
   "outputs": [],
   "source": [
    "# Data for model\n",
    "\n",
    "data_for_model = data[(data.price != 0)].drop(['vin','lot','state','condition','country'], axis=1)"
   ]
  },
  {
   "cell_type": "code",
   "execution_count": 22,
   "metadata": {},
   "outputs": [
    {
     "data": {
      "text/html": [
       "<div>\n",
       "<style scoped>\n",
       "    .dataframe tbody tr th:only-of-type {\n",
       "        vertical-align: middle;\n",
       "    }\n",
       "\n",
       "    .dataframe tbody tr th {\n",
       "        vertical-align: top;\n",
       "    }\n",
       "\n",
       "    .dataframe thead th {\n",
       "        text-align: right;\n",
       "    }\n",
       "</style>\n",
       "<table border=\"1\" class=\"dataframe\">\n",
       "  <thead>\n",
       "    <tr style=\"text-align: right;\">\n",
       "      <th></th>\n",
       "      <th>price</th>\n",
       "      <th>brand</th>\n",
       "      <th>model</th>\n",
       "      <th>year</th>\n",
       "      <th>title_status</th>\n",
       "      <th>mileage</th>\n",
       "      <th>color</th>\n",
       "    </tr>\n",
       "  </thead>\n",
       "  <tbody>\n",
       "    <tr>\n",
       "      <th>1878</th>\n",
       "      <td>27999</td>\n",
       "      <td>ford</td>\n",
       "      <td>doors</td>\n",
       "      <td>2016</td>\n",
       "      <td>clean vehicle</td>\n",
       "      <td>10700.0</td>\n",
       "      <td>gray</td>\n",
       "    </tr>\n",
       "    <tr>\n",
       "      <th>184</th>\n",
       "      <td>4140</td>\n",
       "      <td>ford</td>\n",
       "      <td>door</td>\n",
       "      <td>2017</td>\n",
       "      <td>clean vehicle</td>\n",
       "      <td>40747.0</td>\n",
       "      <td>white</td>\n",
       "    </tr>\n",
       "    <tr>\n",
       "      <th>550</th>\n",
       "      <td>18000</td>\n",
       "      <td>mercedes-benz</td>\n",
       "      <td>door</td>\n",
       "      <td>2015</td>\n",
       "      <td>clean vehicle</td>\n",
       "      <td>82411.0</td>\n",
       "      <td>black</td>\n",
       "    </tr>\n",
       "    <tr>\n",
       "      <th>2159</th>\n",
       "      <td>27000</td>\n",
       "      <td>ford</td>\n",
       "      <td>f-150</td>\n",
       "      <td>2018</td>\n",
       "      <td>clean vehicle</td>\n",
       "      <td>40577.0</td>\n",
       "      <td>black</td>\n",
       "    </tr>\n",
       "    <tr>\n",
       "      <th>56</th>\n",
       "      <td>20000</td>\n",
       "      <td>jeep</td>\n",
       "      <td>cherokee</td>\n",
       "      <td>2019</td>\n",
       "      <td>clean vehicle</td>\n",
       "      <td>38355.0</td>\n",
       "      <td>charcoal</td>\n",
       "    </tr>\n",
       "    <tr>\n",
       "      <th>1797</th>\n",
       "      <td>22800</td>\n",
       "      <td>ford</td>\n",
       "      <td>f-150</td>\n",
       "      <td>2019</td>\n",
       "      <td>clean vehicle</td>\n",
       "      <td>13002.0</td>\n",
       "      <td>white</td>\n",
       "    </tr>\n",
       "    <tr>\n",
       "      <th>2174</th>\n",
       "      <td>9300</td>\n",
       "      <td>ford</td>\n",
       "      <td>fiesta</td>\n",
       "      <td>2019</td>\n",
       "      <td>clean vehicle</td>\n",
       "      <td>32305.0</td>\n",
       "      <td>silver</td>\n",
       "    </tr>\n",
       "    <tr>\n",
       "      <th>20</th>\n",
       "      <td>12520</td>\n",
       "      <td>gmc</td>\n",
       "      <td>door</td>\n",
       "      <td>2017</td>\n",
       "      <td>clean vehicle</td>\n",
       "      <td>30114.0</td>\n",
       "      <td>white</td>\n",
       "    </tr>\n",
       "    <tr>\n",
       "      <th>1517</th>\n",
       "      <td>28700</td>\n",
       "      <td>ford</td>\n",
       "      <td>f-150</td>\n",
       "      <td>2019</td>\n",
       "      <td>clean vehicle</td>\n",
       "      <td>13673.0</td>\n",
       "      <td>white</td>\n",
       "    </tr>\n",
       "    <tr>\n",
       "      <th>170</th>\n",
       "      <td>25800</td>\n",
       "      <td>ford</td>\n",
       "      <td>door</td>\n",
       "      <td>2014</td>\n",
       "      <td>clean vehicle</td>\n",
       "      <td>47055.0</td>\n",
       "      <td>brown</td>\n",
       "    </tr>\n",
       "    <tr>\n",
       "      <th>2284</th>\n",
       "      <td>600</td>\n",
       "      <td>nissan</td>\n",
       "      <td>door</td>\n",
       "      <td>2012</td>\n",
       "      <td>salvage insurance</td>\n",
       "      <td>206142.0</td>\n",
       "      <td>silver</td>\n",
       "    </tr>\n",
       "    <tr>\n",
       "      <th>804</th>\n",
       "      <td>27300</td>\n",
       "      <td>chevrolet</td>\n",
       "      <td>ld</td>\n",
       "      <td>2019</td>\n",
       "      <td>clean vehicle</td>\n",
       "      <td>25427.0</td>\n",
       "      <td>black</td>\n",
       "    </tr>\n",
       "    <tr>\n",
       "      <th>1632</th>\n",
       "      <td>6000</td>\n",
       "      <td>ford</td>\n",
       "      <td>door</td>\n",
       "      <td>2014</td>\n",
       "      <td>salvage insurance</td>\n",
       "      <td>125369.0</td>\n",
       "      <td>black</td>\n",
       "    </tr>\n",
       "    <tr>\n",
       "      <th>1454</th>\n",
       "      <td>50000</td>\n",
       "      <td>ford</td>\n",
       "      <td>max</td>\n",
       "      <td>2019</td>\n",
       "      <td>clean vehicle</td>\n",
       "      <td>17995.0</td>\n",
       "      <td>black</td>\n",
       "    </tr>\n",
       "    <tr>\n",
       "      <th>307</th>\n",
       "      <td>10900</td>\n",
       "      <td>jeep</td>\n",
       "      <td>mpv</td>\n",
       "      <td>2019</td>\n",
       "      <td>clean vehicle</td>\n",
       "      <td>13273.0</td>\n",
       "      <td>red</td>\n",
       "    </tr>\n",
       "    <tr>\n",
       "      <th>793</th>\n",
       "      <td>15500</td>\n",
       "      <td>chevrolet</td>\n",
       "      <td>impala</td>\n",
       "      <td>2019</td>\n",
       "      <td>clean vehicle</td>\n",
       "      <td>29922.0</td>\n",
       "      <td>charcoal</td>\n",
       "    </tr>\n",
       "    <tr>\n",
       "      <th>1689</th>\n",
       "      <td>26000</td>\n",
       "      <td>ford</td>\n",
       "      <td>wagon</td>\n",
       "      <td>2019</td>\n",
       "      <td>clean vehicle</td>\n",
       "      <td>23019.0</td>\n",
       "      <td>white</td>\n",
       "    </tr>\n",
       "    <tr>\n",
       "      <th>2114</th>\n",
       "      <td>26200</td>\n",
       "      <td>ford</td>\n",
       "      <td>f-650</td>\n",
       "      <td>2015</td>\n",
       "      <td>clean vehicle</td>\n",
       "      <td>129063.0</td>\n",
       "      <td>white</td>\n",
       "    </tr>\n",
       "    <tr>\n",
       "      <th>1967</th>\n",
       "      <td>16700</td>\n",
       "      <td>ford</td>\n",
       "      <td>fusion</td>\n",
       "      <td>2019</td>\n",
       "      <td>clean vehicle</td>\n",
       "      <td>36989.0</td>\n",
       "      <td>silver</td>\n",
       "    </tr>\n",
       "  </tbody>\n",
       "</table>\n",
       "</div>"
      ],
      "text/plain": [
       "      price          brand     model  year       title_status   mileage  \\\n",
       "1878  27999           ford     doors  2016      clean vehicle   10700.0   \n",
       "184    4140           ford      door  2017      clean vehicle   40747.0   \n",
       "550   18000  mercedes-benz      door  2015      clean vehicle   82411.0   \n",
       "2159  27000           ford     f-150  2018      clean vehicle   40577.0   \n",
       "56    20000           jeep  cherokee  2019      clean vehicle   38355.0   \n",
       "1797  22800           ford     f-150  2019      clean vehicle   13002.0   \n",
       "2174   9300           ford    fiesta  2019      clean vehicle   32305.0   \n",
       "20    12520            gmc      door  2017      clean vehicle   30114.0   \n",
       "1517  28700           ford     f-150  2019      clean vehicle   13673.0   \n",
       "170   25800           ford      door  2014      clean vehicle   47055.0   \n",
       "2284    600         nissan      door  2012  salvage insurance  206142.0   \n",
       "804   27300      chevrolet        ld  2019      clean vehicle   25427.0   \n",
       "1632   6000           ford      door  2014  salvage insurance  125369.0   \n",
       "1454  50000           ford       max  2019      clean vehicle   17995.0   \n",
       "307   10900           jeep       mpv  2019      clean vehicle   13273.0   \n",
       "793   15500      chevrolet    impala  2019      clean vehicle   29922.0   \n",
       "1689  26000           ford     wagon  2019      clean vehicle   23019.0   \n",
       "2114  26200           ford     f-650  2015      clean vehicle  129063.0   \n",
       "1967  16700           ford    fusion  2019      clean vehicle   36989.0   \n",
       "\n",
       "         color  \n",
       "1878      gray  \n",
       "184      white  \n",
       "550      black  \n",
       "2159     black  \n",
       "56    charcoal  \n",
       "1797     white  \n",
       "2174    silver  \n",
       "20       white  \n",
       "1517     white  \n",
       "170      brown  \n",
       "2284    silver  \n",
       "804      black  \n",
       "1632     black  \n",
       "1454     black  \n",
       "307        red  \n",
       "793   charcoal  \n",
       "1689     white  \n",
       "2114     white  \n",
       "1967    silver  "
      ]
     },
     "execution_count": 22,
     "metadata": {},
     "output_type": "execute_result"
    }
   ],
   "source": [
    "# Get data inference\n",
    "\n",
    "data_inference = data_for_model.sample(19, random_state=10)\n",
    "data_inference"
   ]
  },
  {
   "cell_type": "markdown",
   "metadata": {},
   "source": [
    "Next we will create Train Test data"
   ]
  },
  {
   "cell_type": "markdown",
   "metadata": {},
   "source": [
    "## Train Test set"
   ]
  },
  {
   "cell_type": "markdown",
   "metadata": {},
   "source": [
    "We will create a Train Test data set where this data is the data that we will use to conduct training and test the model that we will create, this data also cannot be included from the inference data."
   ]
  },
  {
   "cell_type": "code",
   "execution_count": 23,
   "metadata": {},
   "outputs": [
    {
     "data": {
      "text/html": [
       "<div>\n",
       "<style scoped>\n",
       "    .dataframe tbody tr th:only-of-type {\n",
       "        vertical-align: middle;\n",
       "    }\n",
       "\n",
       "    .dataframe tbody tr th {\n",
       "        vertical-align: top;\n",
       "    }\n",
       "\n",
       "    .dataframe thead th {\n",
       "        text-align: right;\n",
       "    }\n",
       "</style>\n",
       "<table border=\"1\" class=\"dataframe\">\n",
       "  <thead>\n",
       "    <tr style=\"text-align: right;\">\n",
       "      <th></th>\n",
       "      <th>price</th>\n",
       "      <th>brand</th>\n",
       "      <th>model</th>\n",
       "      <th>year</th>\n",
       "      <th>title_status</th>\n",
       "      <th>mileage</th>\n",
       "      <th>color</th>\n",
       "    </tr>\n",
       "  </thead>\n",
       "  <tbody>\n",
       "    <tr>\n",
       "      <th>0</th>\n",
       "      <td>6300</td>\n",
       "      <td>toyota</td>\n",
       "      <td>cruiser</td>\n",
       "      <td>2008</td>\n",
       "      <td>clean vehicle</td>\n",
       "      <td>274117.0</td>\n",
       "      <td>black</td>\n",
       "    </tr>\n",
       "    <tr>\n",
       "      <th>1</th>\n",
       "      <td>2899</td>\n",
       "      <td>ford</td>\n",
       "      <td>se</td>\n",
       "      <td>2011</td>\n",
       "      <td>clean vehicle</td>\n",
       "      <td>190552.0</td>\n",
       "      <td>silver</td>\n",
       "    </tr>\n",
       "    <tr>\n",
       "      <th>2</th>\n",
       "      <td>5350</td>\n",
       "      <td>dodge</td>\n",
       "      <td>mpv</td>\n",
       "      <td>2018</td>\n",
       "      <td>clean vehicle</td>\n",
       "      <td>39590.0</td>\n",
       "      <td>silver</td>\n",
       "    </tr>\n",
       "    <tr>\n",
       "      <th>3</th>\n",
       "      <td>25000</td>\n",
       "      <td>ford</td>\n",
       "      <td>door</td>\n",
       "      <td>2014</td>\n",
       "      <td>clean vehicle</td>\n",
       "      <td>64146.0</td>\n",
       "      <td>blue</td>\n",
       "    </tr>\n",
       "    <tr>\n",
       "      <th>4</th>\n",
       "      <td>27700</td>\n",
       "      <td>chevrolet</td>\n",
       "      <td>1500</td>\n",
       "      <td>2018</td>\n",
       "      <td>clean vehicle</td>\n",
       "      <td>6654.0</td>\n",
       "      <td>red</td>\n",
       "    </tr>\n",
       "    <tr>\n",
       "      <th>...</th>\n",
       "      <td>...</td>\n",
       "      <td>...</td>\n",
       "      <td>...</td>\n",
       "      <td>...</td>\n",
       "      <td>...</td>\n",
       "      <td>...</td>\n",
       "      <td>...</td>\n",
       "    </tr>\n",
       "    <tr>\n",
       "      <th>2494</th>\n",
       "      <td>7800</td>\n",
       "      <td>nissan</td>\n",
       "      <td>versa</td>\n",
       "      <td>2019</td>\n",
       "      <td>clean vehicle</td>\n",
       "      <td>23609.0</td>\n",
       "      <td>red</td>\n",
       "    </tr>\n",
       "    <tr>\n",
       "      <th>2495</th>\n",
       "      <td>9200</td>\n",
       "      <td>nissan</td>\n",
       "      <td>versa</td>\n",
       "      <td>2018</td>\n",
       "      <td>clean vehicle</td>\n",
       "      <td>34553.0</td>\n",
       "      <td>silver</td>\n",
       "    </tr>\n",
       "    <tr>\n",
       "      <th>2496</th>\n",
       "      <td>9200</td>\n",
       "      <td>nissan</td>\n",
       "      <td>versa</td>\n",
       "      <td>2018</td>\n",
       "      <td>clean vehicle</td>\n",
       "      <td>31594.0</td>\n",
       "      <td>silver</td>\n",
       "    </tr>\n",
       "    <tr>\n",
       "      <th>2497</th>\n",
       "      <td>9200</td>\n",
       "      <td>nissan</td>\n",
       "      <td>versa</td>\n",
       "      <td>2018</td>\n",
       "      <td>clean vehicle</td>\n",
       "      <td>32557.0</td>\n",
       "      <td>black</td>\n",
       "    </tr>\n",
       "    <tr>\n",
       "      <th>2498</th>\n",
       "      <td>9200</td>\n",
       "      <td>nissan</td>\n",
       "      <td>versa</td>\n",
       "      <td>2018</td>\n",
       "      <td>clean vehicle</td>\n",
       "      <td>31371.0</td>\n",
       "      <td>silver</td>\n",
       "    </tr>\n",
       "  </tbody>\n",
       "</table>\n",
       "<p>2437 rows × 7 columns</p>\n",
       "</div>"
      ],
      "text/plain": [
       "      price      brand    model  year   title_status   mileage   color\n",
       "0      6300     toyota  cruiser  2008  clean vehicle  274117.0   black\n",
       "1      2899       ford       se  2011  clean vehicle  190552.0  silver\n",
       "2      5350      dodge      mpv  2018  clean vehicle   39590.0  silver\n",
       "3     25000       ford     door  2014  clean vehicle   64146.0    blue\n",
       "4     27700  chevrolet     1500  2018  clean vehicle    6654.0     red\n",
       "...     ...        ...      ...   ...            ...       ...     ...\n",
       "2494   7800     nissan    versa  2019  clean vehicle   23609.0     red\n",
       "2495   9200     nissan    versa  2018  clean vehicle   34553.0  silver\n",
       "2496   9200     nissan    versa  2018  clean vehicle   31594.0  silver\n",
       "2497   9200     nissan    versa  2018  clean vehicle   32557.0   black\n",
       "2498   9200     nissan    versa  2018  clean vehicle   31371.0  silver\n",
       "\n",
       "[2437 rows x 7 columns]"
      ]
     },
     "execution_count": 23,
     "metadata": {},
     "output_type": "execute_result"
    }
   ],
   "source": [
    "data_train_test = data_for_model.drop(data_inference.index)\n",
    "data_train_test"
   ]
  },
  {
   "cell_type": "markdown",
   "metadata": {},
   "source": [
    "We will do a reset index of the two data"
   ]
  },
  {
   "cell_type": "code",
   "execution_count": 24,
   "metadata": {},
   "outputs": [],
   "source": [
    "# Reset Index\n",
    "\n",
    "data_train_test.reset_index(drop=True, inplace=True)\n",
    "data_inference.reset_index(drop=True, inplace=True)"
   ]
  },
  {
   "cell_type": "markdown",
   "metadata": {},
   "source": [
    "## Splitting Dataset"
   ]
  },
  {
   "cell_type": "markdown",
   "metadata": {},
   "source": [
    "Next we will do a split between X and y"
   ]
  },
  {
   "cell_type": "code",
   "execution_count": 25,
   "metadata": {},
   "outputs": [],
   "source": [
    "# Split between X and y\n",
    "\n",
    "X = data_train_test.drop(['price'], axis=1)\n",
    "y = data_train_test['price']"
   ]
  },
  {
   "cell_type": "code",
   "execution_count": 26,
   "metadata": {},
   "outputs": [
    {
     "data": {
      "text/html": [
       "<div>\n",
       "<style scoped>\n",
       "    .dataframe tbody tr th:only-of-type {\n",
       "        vertical-align: middle;\n",
       "    }\n",
       "\n",
       "    .dataframe tbody tr th {\n",
       "        vertical-align: top;\n",
       "    }\n",
       "\n",
       "    .dataframe thead th {\n",
       "        text-align: right;\n",
       "    }\n",
       "</style>\n",
       "<table border=\"1\" class=\"dataframe\">\n",
       "  <thead>\n",
       "    <tr style=\"text-align: right;\">\n",
       "      <th></th>\n",
       "      <th>brand</th>\n",
       "      <th>model</th>\n",
       "      <th>year</th>\n",
       "      <th>title_status</th>\n",
       "      <th>mileage</th>\n",
       "      <th>color</th>\n",
       "    </tr>\n",
       "  </thead>\n",
       "  <tbody>\n",
       "    <tr>\n",
       "      <th>0</th>\n",
       "      <td>toyota</td>\n",
       "      <td>cruiser</td>\n",
       "      <td>2008</td>\n",
       "      <td>clean vehicle</td>\n",
       "      <td>274117.0</td>\n",
       "      <td>black</td>\n",
       "    </tr>\n",
       "    <tr>\n",
       "      <th>1</th>\n",
       "      <td>ford</td>\n",
       "      <td>se</td>\n",
       "      <td>2011</td>\n",
       "      <td>clean vehicle</td>\n",
       "      <td>190552.0</td>\n",
       "      <td>silver</td>\n",
       "    </tr>\n",
       "    <tr>\n",
       "      <th>2</th>\n",
       "      <td>dodge</td>\n",
       "      <td>mpv</td>\n",
       "      <td>2018</td>\n",
       "      <td>clean vehicle</td>\n",
       "      <td>39590.0</td>\n",
       "      <td>silver</td>\n",
       "    </tr>\n",
       "    <tr>\n",
       "      <th>3</th>\n",
       "      <td>ford</td>\n",
       "      <td>door</td>\n",
       "      <td>2014</td>\n",
       "      <td>clean vehicle</td>\n",
       "      <td>64146.0</td>\n",
       "      <td>blue</td>\n",
       "    </tr>\n",
       "    <tr>\n",
       "      <th>4</th>\n",
       "      <td>chevrolet</td>\n",
       "      <td>1500</td>\n",
       "      <td>2018</td>\n",
       "      <td>clean vehicle</td>\n",
       "      <td>6654.0</td>\n",
       "      <td>red</td>\n",
       "    </tr>\n",
       "  </tbody>\n",
       "</table>\n",
       "</div>"
      ],
      "text/plain": [
       "       brand    model  year   title_status   mileage   color\n",
       "0     toyota  cruiser  2008  clean vehicle  274117.0   black\n",
       "1       ford       se  2011  clean vehicle  190552.0  silver\n",
       "2      dodge      mpv  2018  clean vehicle   39590.0  silver\n",
       "3       ford     door  2014  clean vehicle   64146.0    blue\n",
       "4  chevrolet     1500  2018  clean vehicle    6654.0     red"
      ]
     },
     "execution_count": 26,
     "metadata": {},
     "output_type": "execute_result"
    }
   ],
   "source": [
    "# Display Feature\n",
    "X.head()"
   ]
  },
  {
   "cell_type": "code",
   "execution_count": 27,
   "metadata": {},
   "outputs": [
    {
     "data": {
      "text/plain": [
       "0     6300\n",
       "1     2899\n",
       "2     5350\n",
       "3    25000\n",
       "4    27700\n",
       "Name: price, dtype: int64"
      ]
     },
     "execution_count": 27,
     "metadata": {},
     "output_type": "execute_result"
    }
   ],
   "source": [
    "# Display Target\n",
    "y.head()"
   ]
  },
  {
   "cell_type": "markdown",
   "metadata": {},
   "source": [
    "Doing a Train Test split"
   ]
  },
  {
   "cell_type": "code",
   "execution_count": 28,
   "metadata": {},
   "outputs": [
    {
     "name": "stdout",
     "output_type": "stream",
     "text": [
      "X_train Shape: (1949, 6)\n",
      "y_train shape: (1949,)\n",
      "\n",
      "X_test Shape: (488, 6)\n",
      "y_test shape: (488,)\n"
     ]
    }
   ],
   "source": [
    "# Split Train Test set\n",
    "\n",
    "X_train, X_test, y_train, y_test = train_test_split(X, y, test_size=0.20, random_state=109)\n",
    "\n",
    "# Display dimensional\n",
    "print('X_train Shape:', X_train.shape)\n",
    "print('y_train shape:', y_train.shape)\n",
    "print('\\nX_test Shape:', X_test.shape)\n",
    "print('y_test shape:', y_test.shape)"
   ]
  },
  {
   "cell_type": "markdown",
   "metadata": {},
   "source": [
    "We have successfully carried out the Train Test split."
   ]
  },
  {
   "cell_type": "markdown",
   "metadata": {},
   "source": [
    "## Handling Outliers"
   ]
  },
  {
   "cell_type": "markdown",
   "metadata": {},
   "source": [
    "### Outliers\n",
    "\n",
    "An outlier is a data that deviates or is outside of the standard deviation, we must handle outliers because this can affect the model we are going to make. We will only handle outliers in the Train-set section, before that we will detect outliers."
   ]
  },
  {
   "cell_type": "markdown",
   "metadata": {},
   "source": [
    "We will detect outliers using a boxplot, therefore we will create a new variable to drop the column type object"
   ]
  },
  {
   "cell_type": "code",
   "execution_count": 29,
   "metadata": {},
   "outputs": [],
   "source": [
    "# Drop columns object\n",
    "\n",
    "data_outliers = X_train.drop(columns=X_train.select_dtypes(object), axis=1)"
   ]
  },
  {
   "cell_type": "code",
   "execution_count": 30,
   "metadata": {},
   "outputs": [
    {
     "data": {
      "image/png": "[encoded data removed]",
      "text/plain": [
       "<Figure size 1152x360 with 2 Axes>"
      ]
     },
     "metadata": {},
     "output_type": "display_data"
    },
    {
     "data": {
      "image/png": "[encoded data removed]",
      "text/plain": [
       "<Figure size 1152x360 with 2 Axes>"
      ]
     },
     "metadata": {},
     "output_type": "display_data"
    }
   ],
   "source": [
    "diag_outlier_plots(data_outliers)"
   ]
  },
  {
   "cell_type": "markdown",
   "metadata": {},
   "source": [
    "As we can see that the result of the graph contains 2 columns that contain outliers, I will not handle these outliers because I think the year of a car can vary from 1980 to 2020 and that is a natural thing. For the mileage or mileage column, I think this is also a natural thing because it could be that one of the car sellers has used the car for a long time or has traveled a very long distance in some time, this is what makes the mileage of a car become high, these reasons made me not to handle outliers in this case."
   ]
  },
  {
   "cell_type": "code",
   "execution_count": 31,
   "metadata": {},
   "outputs": [],
   "source": [
    "# Melakukan Censoring atau Capping\n",
    "winsoriser = Winsorizer(capping_method='iqr', tail='both', fold=1.5, \n",
    "                        variables=['mileage'])\n",
    "\n",
    "winsoriser.fit(X_train)\n",
    "X_train = winsoriser.transform(X_train)"
   ]
  },
  {
   "cell_type": "markdown",
   "metadata": {},
   "source": [
    "## Handling Misisng Value"
   ]
  },
  {
   "cell_type": "markdown",
   "metadata": {},
   "source": [
    "We will check for missing values on the Train Test data set."
   ]
  },
  {
   "cell_type": "code",
   "execution_count": 32,
   "metadata": {},
   "outputs": [
    {
     "data": {
      "text/html": [
       "<div>\n",
       "<style scoped>\n",
       "    .dataframe tbody tr th:only-of-type {\n",
       "        vertical-align: middle;\n",
       "    }\n",
       "\n",
       "    .dataframe tbody tr th {\n",
       "        vertical-align: top;\n",
       "    }\n",
       "\n",
       "    .dataframe thead th {\n",
       "        text-align: right;\n",
       "    }\n",
       "</style>\n",
       "<table border=\"1\" class=\"dataframe\">\n",
       "  <thead>\n",
       "    <tr style=\"text-align: right;\">\n",
       "      <th></th>\n",
       "      <th>Columns Name</th>\n",
       "      <th>Missing Count</th>\n",
       "      <th>Missing Percentage</th>\n",
       "    </tr>\n",
       "  </thead>\n",
       "  <tbody>\n",
       "  </tbody>\n",
       "</table>\n",
       "</div>"
      ],
      "text/plain": [
       "Empty DataFrame\n",
       "Columns: [Columns Name, Missing Count, Missing Percentage]\n",
       "Index: []"
      ]
     },
     "execution_count": 32,
     "metadata": {},
     "output_type": "execute_result"
    }
   ],
   "source": [
    "# X_train\n",
    "\n",
    "detect_missval(X_train)"
   ]
  },
  {
   "cell_type": "code",
   "execution_count": 33,
   "metadata": {},
   "outputs": [
    {
     "data": {
      "text/html": [
       "<div>\n",
       "<style scoped>\n",
       "    .dataframe tbody tr th:only-of-type {\n",
       "        vertical-align: middle;\n",
       "    }\n",
       "\n",
       "    .dataframe tbody tr th {\n",
       "        vertical-align: top;\n",
       "    }\n",
       "\n",
       "    .dataframe thead th {\n",
       "        text-align: right;\n",
       "    }\n",
       "</style>\n",
       "<table border=\"1\" class=\"dataframe\">\n",
       "  <thead>\n",
       "    <tr style=\"text-align: right;\">\n",
       "      <th></th>\n",
       "      <th>Columns Name</th>\n",
       "      <th>Missing Count</th>\n",
       "      <th>Missing Percentage</th>\n",
       "    </tr>\n",
       "  </thead>\n",
       "  <tbody>\n",
       "  </tbody>\n",
       "</table>\n",
       "</div>"
      ],
      "text/plain": [
       "Empty DataFrame\n",
       "Columns: [Columns Name, Missing Count, Missing Percentage]\n",
       "Index: []"
      ]
     },
     "execution_count": 33,
     "metadata": {},
     "output_type": "execute_result"
    }
   ],
   "source": [
    "# X_test\n",
    "\n",
    "detect_missval(X_test)"
   ]
  },
  {
   "cell_type": "code",
   "execution_count": 34,
   "metadata": {},
   "outputs": [
    {
     "data": {
      "text/plain": [
       "0"
      ]
     },
     "execution_count": 34,
     "metadata": {},
     "output_type": "execute_result"
    }
   ],
   "source": [
    "y_train.isnull().sum()"
   ]
  },
  {
   "cell_type": "code",
   "execution_count": 35,
   "metadata": {},
   "outputs": [
    {
     "data": {
      "text/plain": [
       "0"
      ]
     },
     "execution_count": 35,
     "metadata": {},
     "output_type": "execute_result"
    }
   ],
   "source": [
    "y_test.isnull().sum()"
   ]
  },
  {
   "cell_type": "markdown",
   "metadata": {},
   "source": [
    "After we see that there is no missing value in our dataset, which means we will not handle missing values."
   ]
  },
  {
   "cell_type": "markdown",
   "metadata": {},
   "source": [
    "## Feature Selection"
   ]
  },
  {
   "cell_type": "markdown",
   "metadata": {},
   "source": [
    "Here we will determine or final selection in the selection of the column that will be our feature, in determining the column we will usually use a heatmap to see the correlation of each column and can also use personal judgment if we have a certain statement about that column. We will check from data (X_train) and combine it with target data (y_train). There are several things we should pay attention to in looking at the correlation between features and targets.\n",
    "\n",
    "1. Correlation has a range of values ​​from -1 to 1 where if the value is close to 0 it means that the features are not correlated with each other, as well as a value that is close to 1 means that the features are correlated with each other.\n",
    "\n",
    "2. Seeing the correlation using a heatmap can only be used for columns that are numerical, not categorical\n",
    "\n",
    "3. Target and feature may be correlated, to ensure that the feature matches the target that we will make predictions.\n",
    "\n",
    "4. Features must not be correlated with other features."
   ]
  },
  {
   "cell_type": "markdown",
   "metadata": {},
   "source": [
    "See the correlation between features"
   ]
  },
  {
   "cell_type": "code",
   "execution_count": 36,
   "metadata": {},
   "outputs": [
    {
     "data": {
      "text/plain": [
       "<AxesSubplot:>"
      ]
     },
     "execution_count": 36,
     "metadata": {},
     "output_type": "execute_result"
    },
    {
     "data": {
      "image/png": "[encoded data removed]",
      "text/plain": [
       "<Figure size 360x360 with 2 Axes>"
      ]
     },
     "metadata": {},
     "output_type": "display_data"
    }
   ],
   "source": [
    "sns.set(rc={'figure.figsize':(5,5)})\n",
    "sns.heatmap(X_train.corr(), annot=True)"
   ]
  },
  {
   "cell_type": "markdown",
   "metadata": {},
   "source": [
    "As we can see that the features have a negative correlation with each other, next I will do a look at the correlation between the feature and the target"
   ]
  },
  {
   "cell_type": "code",
   "execution_count": 37,
   "metadata": {},
   "outputs": [
    {
     "data": {
      "text/plain": [
       "<AxesSubplot:>"
      ]
     },
     "execution_count": 37,
     "metadata": {},
     "output_type": "execute_result"
    },
    {
     "data": {
      "image/png": "[encoded data removed]",
      "text/plain": [
       "<Figure size 360x360 with 2 Axes>"
      ]
     },
     "metadata": {},
     "output_type": "display_data"
    }
   ],
   "source": [
    "korelasi_train = pd.concat([X_train, y_train], axis=1)\n",
    "sns.set(rc={'figure.figsize':(5,5)})\n",
    "sns.heatmap(korelasi_train.corr(), annot=True)"
   ]
  },
  {
   "cell_type": "markdown",
   "metadata": {},
   "source": [
    "Based on the results of the heatmap above, we can see that the year column has a good correlation to the price column with a value of 0.41, while the mileage column has a minus correlation to the price column with a value of -0.38, which means that the feature has a good correlation, only that one contains a minus. , but that's okay because in my opinion the mileage column or the mileage of a car can affect the price of a car as described on the website https://www.webuyanycar.com/car-valuation/how-does-car-mileage-affect- value/#:~:text=Car%20mileage%20can%20be%20grouped,20%25%20of%20its%20current%20value , that the mileage can reduce the value of the car, that is the reason I enter the mileage column become a feature of our model."
   ]
  },
  {
   "cell_type": "markdown",
   "metadata": {},
   "source": [
    "# **GENERATE PIPELINE**"
   ]
  },
  {
   "cell_type": "markdown",
   "metadata": {},
   "source": [
    "In this section, we will carry out the process of creating a pipeline starting from separating columns between numerical and categorical to creating a pipline for the model that we have specified."
   ]
  },
  {
   "cell_type": "markdown",
   "metadata": {},
   "source": [
    "## Numerical Columns"
   ]
  },
  {
   "cell_type": "markdown",
   "metadata": {},
   "source": [
    "in this section we will separate between numerically distributed normal and numerically skewed distribution, why do we have to do the separation? because the handling performed for the normal distribution and skewed distribution is different."
   ]
  },
  {
   "cell_type": "code",
   "execution_count": 38,
   "metadata": {},
   "outputs": [
    {
     "name": "stdout",
     "output_type": "stream",
     "text": [
      "skew_dist : ['year', 'mileage']\n",
      "======================================================================================================================================================\n",
      "normal_dist : []\n"
     ]
    }
   ],
   "source": [
    "# Cek distribusi\n",
    "\n",
    "check_dist(X_train)"
   ]
  },
  {
   "cell_type": "markdown",
   "metadata": {},
   "source": [
    "the results show that the numerical column in our dataset only has a skewed distribution, which is scaling using the MinMax Scaler."
   ]
  },
  {
   "cell_type": "code",
   "execution_count": 39,
   "metadata": {},
   "outputs": [],
   "source": [
    "# Numeric Skewed\n",
    "\n",
    "numeric = ['mileage','year']\n",
    "numeric_trs = MinMaxScaler()"
   ]
  },
  {
   "cell_type": "markdown",
   "metadata": {},
   "source": [
    "We have created a pipeline for numerical, then we will make pipeline processing for categorical."
   ]
  },
  {
   "cell_type": "markdown",
   "metadata": {},
   "source": [
    "## Categorical Columns"
   ]
  },
  {
   "cell_type": "markdown",
   "metadata": {},
   "source": [
    "In the categorical column is divided into 2, namely nominal and ordinal:\n",
    "* Nominal, is a categorical column with levels\n",
    "* Ordinal, is a categorical column that has no levels\n",
    "\n",
    "Here I will separate the nominal and ordinal category columns."
   ]
  },
  {
   "cell_type": "code",
   "execution_count": 40,
   "metadata": {},
   "outputs": [
    {
     "data": {
      "text/html": [
       "<div>\n",
       "<style scoped>\n",
       "    .dataframe tbody tr th:only-of-type {\n",
       "        vertical-align: middle;\n",
       "    }\n",
       "\n",
       "    .dataframe tbody tr th {\n",
       "        vertical-align: top;\n",
       "    }\n",
       "\n",
       "    .dataframe thead th {\n",
       "        text-align: right;\n",
       "    }\n",
       "</style>\n",
       "<table border=\"1\" class=\"dataframe\">\n",
       "  <thead>\n",
       "    <tr style=\"text-align: right;\">\n",
       "      <th></th>\n",
       "      <th>brand</th>\n",
       "      <th>model</th>\n",
       "      <th>title_status</th>\n",
       "      <th>color</th>\n",
       "    </tr>\n",
       "  </thead>\n",
       "  <tbody>\n",
       "    <tr>\n",
       "      <th>1451</th>\n",
       "      <td>ford</td>\n",
       "      <td>f-150</td>\n",
       "      <td>clean vehicle</td>\n",
       "      <td>white</td>\n",
       "    </tr>\n",
       "    <tr>\n",
       "      <th>70</th>\n",
       "      <td>bmw</td>\n",
       "      <td>x3</td>\n",
       "      <td>clean vehicle</td>\n",
       "      <td>black</td>\n",
       "    </tr>\n",
       "    <tr>\n",
       "      <th>1921</th>\n",
       "      <td>ford</td>\n",
       "      <td>door</td>\n",
       "      <td>salvage insurance</td>\n",
       "      <td>white</td>\n",
       "    </tr>\n",
       "    <tr>\n",
       "      <th>1097</th>\n",
       "      <td>dodge</td>\n",
       "      <td>door</td>\n",
       "      <td>clean vehicle</td>\n",
       "      <td>gray</td>\n",
       "    </tr>\n",
       "    <tr>\n",
       "      <th>2027</th>\n",
       "      <td>ford</td>\n",
       "      <td>door</td>\n",
       "      <td>clean vehicle</td>\n",
       "      <td>black</td>\n",
       "    </tr>\n",
       "  </tbody>\n",
       "</table>\n",
       "</div>"
      ],
      "text/plain": [
       "      brand  model       title_status  color\n",
       "1451   ford  f-150      clean vehicle  white\n",
       "70      bmw     x3      clean vehicle  black\n",
       "1921   ford   door  salvage insurance  white\n",
       "1097  dodge   door      clean vehicle   gray\n",
       "2027   ford   door      clean vehicle  black"
      ]
     },
     "execution_count": 40,
     "metadata": {},
     "output_type": "execute_result"
    }
   ],
   "source": [
    "# Display X_train\n",
    "\n",
    "X_train.select_dtypes(include=['object']).head()"
   ]
  },
  {
   "cell_type": "markdown",
   "metadata": {},
   "source": [
    "It can be seen that the categorical column in my dataset is only filled with nominal categorical, which means in this case I will use OneHotEncoder."
   ]
  },
  {
   "cell_type": "code",
   "execution_count": 41,
   "metadata": {},
   "outputs": [],
   "source": [
    "# Categorical \n",
    "\n",
    "categorical = ['brand','model','title_status','color']\n",
    "categorical_trs = OneHotEncoder(handle_unknown='ignore')"
   ]
  },
  {
   "cell_type": "markdown",
   "metadata": {},
   "source": [
    "We have finished declaring the categorical columns which we will be doing ColumnsTranformer."
   ]
  },
  {
   "cell_type": "markdown",
   "metadata": {},
   "source": [
    "## Columns Transformer"
   ]
  },
  {
   "cell_type": "markdown",
   "metadata": {},
   "source": [
    "In this section we will create a columntransformer as preprocessing data for the model."
   ]
  },
  {
   "cell_type": "code",
   "execution_count": 42,
   "metadata": {},
   "outputs": [],
   "source": [
    "# Preprocessor\n",
    "\n",
    "preprocessor = ColumnTransformer(\n",
    "    transformers=[\n",
    "        (\"num_columns\", numeric_trs, numeric),\n",
    "        (\"cat_columns\", categorical_trs, categorical)\n",
    "    ]\n",
    ")"
   ]
  },
  {
   "cell_type": "markdown",
   "metadata": {},
   "source": [
    "We have finished creating the columns transformer"
   ]
  },
  {
   "cell_type": "markdown",
   "metadata": {},
   "source": [
    "# **MODEL DEFINITION & TRAIN**"
   ]
  },
  {
   "cell_type": "markdown",
   "metadata": {},
   "source": [
    "My task is to create a model for car price prediction, in this case I use 4 different algorithms namely:\n",
    "\n",
    "- Lasso\n",
    "- Super Vector Machine Regressor\n",
    "- K-Nearest Neighbors Regression\n",
    "- Ridge Regression"
   ]
  },
  {
   "cell_type": "markdown",
   "metadata": {},
   "source": [
    "## Model Train"
   ]
  },
  {
   "cell_type": "markdown",
   "metadata": {},
   "source": [
    "### 1. Lasso Regression"
   ]
  },
  {
   "cell_type": "code",
   "execution_count": 43,
   "metadata": {},
   "outputs": [],
   "source": [
    "# Lasso Regression\n",
    "\n",
    "pipe_Lasso = Pipeline(\n",
    "    steps=[(\"preprocessor\", preprocessor), (\"Lasso\", Lasso())]\n",
    ")\n",
    "\n",
    "lasso = pipe_Lasso.fit(X_train, y_train)"
   ]
  },
  {
   "cell_type": "markdown",
   "metadata": {},
   "source": [
    "### 2. Super Vector Machine Regression"
   ]
  },
  {
   "cell_type": "code",
   "execution_count": 44,
   "metadata": {},
   "outputs": [],
   "source": [
    "pipe_SVR = Pipeline(\n",
    "    steps=[(\"preprocessor\", preprocessor), (\"SVR\", SVR())]\n",
    ")\n",
    "\n",
    "svr = pipe_SVR.fit(X_train, y_train)"
   ]
  },
  {
   "cell_type": "markdown",
   "metadata": {},
   "source": [
    "### 3. K-Nearest Neighbors Regression"
   ]
  },
  {
   "cell_type": "code",
   "execution_count": 45,
   "metadata": {},
   "outputs": [],
   "source": [
    "pipe_KNR = Pipeline(\n",
    "    steps=[(\"preprocessor\", preprocessor), (\"KNR\", KNeighborsRegressor())]\n",
    ")\n",
    "\n",
    "knr = pipe_KNR.fit(X_train, y_train)"
   ]
  },
  {
   "cell_type": "markdown",
   "metadata": {},
   "source": [
    "### 4. Ridge Regression"
   ]
  },
  {
   "cell_type": "code",
   "execution_count": 46,
   "metadata": {},
   "outputs": [],
   "source": [
    "pipe_RG = Pipeline(\n",
    "    steps=[(\"preprocessor\", preprocessor), (\"Ridge\", Ridge(random_state=10))]\n",
    ")\n",
    "\n",
    "ridge = pipe_RG.fit(X_train, y_train)"
   ]
  },
  {
   "cell_type": "markdown",
   "metadata": {},
   "source": [
    "# **MODEL EVALUATION & IMPROVEMENT**"
   ]
  },
  {
   "cell_type": "markdown",
   "metadata": {},
   "source": [
    "## Evaluation Model Base line"
   ]
  },
  {
   "cell_type": "markdown",
   "metadata": {},
   "source": [
    "### 1. Lasso Regression\n"
   ]
  },
  {
   "cell_type": "code",
   "execution_count": 47,
   "metadata": {},
   "outputs": [
    {
     "name": "stdout",
     "output_type": "stream",
     "text": [
      "Metrics Mean Absolute Error\n",
      "Train Results: 4215.988077036151\n",
      "Test Results: 4941.152304153325\n"
     ]
    }
   ],
   "source": [
    "#Performance Metrics\n",
    "\n",
    "print('Metrics Mean Absolute Error')\n",
    "print('Train Results:', mean_absolute_error(y_train, pipe_Lasso.predict(X_train)))\n",
    "print('Test Results:',mean_absolute_error(y_test, pipe_Lasso.predict(X_test)))"
   ]
  },
  {
   "cell_type": "markdown",
   "metadata": {},
   "source": [
    "### 2. SVR"
   ]
  },
  {
   "cell_type": "code",
   "execution_count": 48,
   "metadata": {},
   "outputs": [
    {
     "name": "stdout",
     "output_type": "stream",
     "text": [
      "Metrics Mean Absolute Error\n",
      "Train Results: 9159.817278076705\n",
      "Test Results: 9245.98279817893\n"
     ]
    }
   ],
   "source": [
    "#Performance Metrics\n",
    "\n",
    "print('Metrics Mean Absolute Error')\n",
    "print('Train Results:', mean_absolute_error(y_train, pipe_SVR.predict(X_train)))\n",
    "print('Test Results:',mean_absolute_error(y_test, pipe_SVR.predict(X_test)))"
   ]
  },
  {
   "cell_type": "markdown",
   "metadata": {},
   "source": [
    "### 3. K-Nearest Neighbor Regression"
   ]
  },
  {
   "cell_type": "code",
   "execution_count": 49,
   "metadata": {},
   "outputs": [
    {
     "name": "stdout",
     "output_type": "stream",
     "text": [
      "Metrics Mean Absolute Error\n",
      "Train Results: 4180.598255515649\n",
      "Test Results: 5480.43237704918\n"
     ]
    }
   ],
   "source": [
    "#Performance Metrics\n",
    "\n",
    "print('Metrics Mean Absolute Error')\n",
    "print('Train Results:', mean_absolute_error(y_train, pipe_KNR.predict(X_train)))\n",
    "print('Test Results:',mean_absolute_error(y_test, pipe_KNR.predict(X_test)))"
   ]
  },
  {
   "cell_type": "markdown",
   "metadata": {},
   "source": [
    "### 4. Ridge Regression"
   ]
  },
  {
   "cell_type": "code",
   "execution_count": 50,
   "metadata": {},
   "outputs": [
    {
     "name": "stdout",
     "output_type": "stream",
     "text": [
      "Metrics Mean Absolute Error\n",
      "Train Results: 4304.605553936425\n",
      "Test Results: 4991.668445437181\n"
     ]
    }
   ],
   "source": [
    "#Performance Metrics Ridge Regression\n",
    "\n",
    "print('Metrics Mean Absolute Error')\n",
    "print('Train Results:', mean_absolute_error(y_train, pipe_RG.predict(X_train)))\n",
    "print('Test Results:',mean_absolute_error(y_test, pipe_RG.predict(X_test)))\n"
   ]
  },
  {
   "cell_type": "markdown",
   "metadata": {},
   "source": [
    "We can see that from all the models that we run the results are still not good, on average we have an error of around 4000 to 5000, even the SVR model reaches an error value of 9000. To find out whether this model is good for us to use, next we will do Hyperparameter tuning to improve the model."
   ]
  },
  {
   "cell_type": "markdown",
   "metadata": {},
   "source": [
    "## Hyperparameter Tuning & Evaluation"
   ]
  },
  {
   "cell_type": "markdown",
   "metadata": {},
   "source": [
    "### **Lasso Regression**"
   ]
  },
  {
   "cell_type": "code",
   "execution_count": 51,
   "metadata": {},
   "outputs": [
    {
     "name": "stderr",
     "output_type": "stream",
     "text": [
      "c:\\Users\\M A R L E V I\\anaconda3\\lib\\site-packages\\sklearn\\linear_model\\_coordinate_descent.py:609: ConvergenceWarning: Objective did not converge. You might want to increase the number of iterations. Duality gap: 24214938.689994812, tolerance: 22333963.454554074\n",
      "  model = cd_fast.sparse_enet_coordinate_descent(\n",
      "c:\\Users\\M A R L E V I\\anaconda3\\lib\\site-packages\\sklearn\\linear_model\\_coordinate_descent.py:609: ConvergenceWarning: Objective did not converge. You might want to increase the number of iterations. Duality gap: 575314292.9313202, tolerance: 22333963.454554074\n",
      "  model = cd_fast.sparse_enet_coordinate_descent(\n",
      "c:\\Users\\M A R L E V I\\anaconda3\\lib\\site-packages\\sklearn\\linear_model\\_coordinate_descent.py:609: ConvergenceWarning: Objective did not converge. You might want to increase the number of iterations. Duality gap: 588462670.6096954, tolerance: 21963973.799629744\n",
      "  model = cd_fast.sparse_enet_coordinate_descent(\n"
     ]
    }
   ],
   "source": [
    "# GridSearch for Lasso Regression\n",
    "params_Lasso = {\n",
    "    'Lasso__alpha':np.arange(1,3),\n",
    "    'Lasso__selection': ['cyclic','random']\n",
    "}\n",
    "grid_Lasso = GridSearchCV(pipe_Lasso, param_grid = params_Lasso, cv=5).fit(X_train, y_train)\n",
    "\n",
    "# Make variable for Grid Best estimator\n",
    "grid_best_lasso = grid_Lasso.best_estimator_\n",
    "\n",
    "# Pipeline Final\n",
    "grid_Lasso_final = Pipeline(\n",
    "    steps=[(\"grid_best_lasso\", grid_best_lasso)]\n",
    ")"
   ]
  },
  {
   "cell_type": "code",
   "execution_count": 52,
   "metadata": {},
   "outputs": [
    {
     "name": "stdout",
     "output_type": "stream",
     "text": [
      "Result Best Params\n",
      "best params: {'Lasso__alpha': 2, 'Lasso__selection': 'random'}\n",
      "best score: 0.6463291542202481\n",
      "========================================\n",
      "Metrics Mean Absolute Error\n",
      "Train Results: 4261.259538371199\n",
      "Test Results: 4964.956957362429\n"
     ]
    }
   ],
   "source": [
    "print('Result Best Params')\n",
    "print('best params:', grid_Lasso.best_params_)\n",
    "print('best score:', grid_Lasso.best_score_)\n",
    "\n",
    "print('===================='*2)\n",
    "print('Metrics Mean Absolute Error')\n",
    "print('Train Results:', mean_absolute_error(y_train, grid_Lasso_final.predict(X_train)))\n",
    "print('Test Results:',mean_absolute_error(y_test, grid_Lasso_final.predict(X_test)))"
   ]
  },
  {
   "cell_type": "markdown",
   "metadata": {},
   "source": [
    "From the results we get, it can be seen that the results we get are not too different from the results of the base line and the Lasso model tends to be underfit where there is a difference of about 6000 distances from the Test set and Train set."
   ]
  },
  {
   "cell_type": "markdown",
   "metadata": {},
   "source": [
    "### **Super Vector Machine Regression**"
   ]
  },
  {
   "cell_type": "code",
   "execution_count": 53,
   "metadata": {},
   "outputs": [],
   "source": [
    "# GridSearch for SVR\n",
    "\n",
    "params_svr = {\n",
    "    'SVR__kernel':['linear', 'sigmoid'],\n",
    "    'SVR__gamma': ['scale','auto'],\n",
    "    'SVR__C': [20000]\n",
    "}\n",
    "grid_svr = GridSearchCV(pipe_SVR, param_grid = params_svr, cv=5).fit(X_train, y_train)\n",
    "\n",
    "# Make variable for Grid Best estimator\n",
    "grid_best_svr = grid_svr.best_estimator_\n",
    "\n",
    "# Pipeline Final\n",
    "grid_SVR_final = Pipeline(\n",
    "    steps=[(\"grid_best_svr\", grid_best_svr)]\n",
    ")"
   ]
  },
  {
   "cell_type": "code",
   "execution_count": 54,
   "metadata": {},
   "outputs": [
    {
     "name": "stdout",
     "output_type": "stream",
     "text": [
      "Result Best Params\n",
      "best params: {'SVR__C': 20000, 'SVR__gamma': 'scale', 'SVR__kernel': 'linear'}\n",
      "best score: 0.6288405421497293\n",
      "========================================\n",
      "Metrics Mean Absolute Error\n",
      "Train Results: 4006.447939545311\n",
      "Test Results: 4910.641058826191\n"
     ]
    }
   ],
   "source": [
    "print('Result Best Params')\n",
    "print('best params:', grid_svr.best_params_)\n",
    "print('best score:', grid_svr.best_score_)\n",
    "\n",
    "print('===================='*2)\n",
    "print('Metrics Mean Absolute Error')\n",
    "print('Train Results:', mean_absolute_error(y_train, grid_SVR_final.predict(X_train)))\n",
    "print('Test Results:',mean_absolute_error(y_test, grid_SVR_final.predict(X_test)))"
   ]
  },
  {
   "cell_type": "markdown",
   "metadata": {},
   "source": [
    "From the results we can see that the SVR model is decreasing well where the base line error value reaches 9000 and is now around 4000, this means that the hyperparameters that we use are suitable for this model and case, but this model tends to be underfit which means that the difference value reaches 9000 between the Train set and the Test set, in this case the SVR model is not good enough in learning."
   ]
  },
  {
   "cell_type": "markdown",
   "metadata": {},
   "source": [
    "### **K-Nearest Neighbor Regression**"
   ]
  },
  {
   "cell_type": "code",
   "execution_count": 55,
   "metadata": {},
   "outputs": [],
   "source": [
    "# GridSearch for SVR\n",
    "\n",
    "params_knr = {\n",
    "    'KNR__n_neighbors':[20],\n",
    "    'KNR__algorithm': ['auto', 'brute'],\n",
    "    'KNR__leaf_size': [40]\n",
    "}\n",
    "grid_knr = GridSearchCV(pipe_KNR, param_grid = params_knr, cv=5).fit(X_train, y_train)\n",
    "\n",
    "# Make variable for Grid Best estimator\n",
    "grid_best_knr = grid_knr.best_estimator_\n",
    "\n",
    "# Pipeline Final\n",
    "grid_KNR_final = Pipeline(\n",
    "    steps=[(\"grid_best_knr\", grid_best_knr)]\n",
    ")"
   ]
  },
  {
   "cell_type": "code",
   "execution_count": 56,
   "metadata": {},
   "outputs": [
    {
     "name": "stdout",
     "output_type": "stream",
     "text": [
      "Result Best Params\n",
      "best params: {'KNR__algorithm': 'auto', 'KNR__leaf_size': 40, 'KNR__n_neighbors': 20}\n",
      "best score: 0.5058902713594134\n",
      "========================================\n",
      "Metrics Mean Absolute Error\n",
      "Train Results: 5400.043971267316\n",
      "Test Results: 5850.85\n"
     ]
    }
   ],
   "source": [
    "print('Result Best Params')\n",
    "print('best params:', grid_knr.best_params_)\n",
    "print('best score:', grid_knr.best_score_)\n",
    "\n",
    "print('===================='*2)\n",
    "print('Metrics Mean Absolute Error')\n",
    "print('Train Results:', mean_absolute_error(y_train, grid_KNR_final.predict(X_train)))\n",
    "print('Test Results:',mean_absolute_error(y_test, grid_KNR_final.predict(X_test)))"
   ]
  },
  {
   "cell_type": "markdown",
   "metadata": {},
   "source": [
    "The results of the improvement of the KNR model show that there is an increasing error value from the Train set which was previously around 4000 and now reaches 5000, which means this value is not good. But if we look at the difference between the Train set and the Test set, the range is getting better, where the Train Test range was around 1300 and now it's only 400, it means that this model has increased between Train and Test."
   ]
  },
  {
   "cell_type": "markdown",
   "metadata": {},
   "source": [
    "## 4. Ridge Regression"
   ]
  },
  {
   "cell_type": "code",
   "execution_count": 57,
   "metadata": {},
   "outputs": [
    {
     "name": "stderr",
     "output_type": "stream",
     "text": [
      "c:\\Users\\M A R L E V I\\anaconda3\\lib\\site-packages\\sklearn\\model_selection\\_validation.py:372: FitFailedWarning: \n",
      "15 fits failed out of a total of 20.\n",
      "The score on these train-test partitions for these parameters will be set to nan.\n",
      "If these failures are not expected, you can try to debug them by setting error_score='raise'.\n",
      "\n",
      "Below are more details about the failures:\n",
      "--------------------------------------------------------------------------------\n",
      "5 fits failed with the following error:\n",
      "Traceback (most recent call last):\n",
      "  File \"c:\\Users\\M A R L E V I\\anaconda3\\lib\\site-packages\\sklearn\\model_selection\\_validation.py\", line 680, in _fit_and_score\n",
      "    estimator.fit(X_train, y_train, **fit_params)\n",
      "  File \"c:\\Users\\M A R L E V I\\anaconda3\\lib\\site-packages\\sklearn\\pipeline.py\", line 394, in fit\n",
      "    self._final_estimator.fit(Xt, y, **fit_params_last_step)\n",
      "  File \"c:\\Users\\M A R L E V I\\anaconda3\\lib\\site-packages\\sklearn\\linear_model\\_ridge.py\", line 1011, in fit\n",
      "    return super().fit(X, y, sample_weight=sample_weight)\n",
      "  File \"c:\\Users\\M A R L E V I\\anaconda3\\lib\\site-packages\\sklearn\\linear_model\\_ridge.py\", line 720, in fit\n",
      "    raise ValueError(\n",
      "ValueError: solver='saga' does not support fitting the intercept on sparse data. Please set the solver to 'auto' or 'sparse_cg', 'sag', 'lbfgs' or set `fit_intercept=False`\n",
      "\n",
      "--------------------------------------------------------------------------------\n",
      "5 fits failed with the following error:\n",
      "Traceback (most recent call last):\n",
      "  File \"c:\\Users\\M A R L E V I\\anaconda3\\lib\\site-packages\\sklearn\\model_selection\\_validation.py\", line 680, in _fit_and_score\n",
      "    estimator.fit(X_train, y_train, **fit_params)\n",
      "  File \"c:\\Users\\M A R L E V I\\anaconda3\\lib\\site-packages\\sklearn\\pipeline.py\", line 394, in fit\n",
      "    self._final_estimator.fit(Xt, y, **fit_params_last_step)\n",
      "  File \"c:\\Users\\M A R L E V I\\anaconda3\\lib\\site-packages\\sklearn\\linear_model\\_ridge.py\", line 1011, in fit\n",
      "    return super().fit(X, y, sample_weight=sample_weight)\n",
      "  File \"c:\\Users\\M A R L E V I\\anaconda3\\lib\\site-packages\\sklearn\\linear_model\\_ridge.py\", line 720, in fit\n",
      "    raise ValueError(\n",
      "ValueError: solver='svd' does not support fitting the intercept on sparse data. Please set the solver to 'auto' or 'sparse_cg', 'sag', 'lbfgs' or set `fit_intercept=False`\n",
      "\n",
      "--------------------------------------------------------------------------------\n",
      "5 fits failed with the following error:\n",
      "Traceback (most recent call last):\n",
      "  File \"c:\\Users\\M A R L E V I\\anaconda3\\lib\\site-packages\\sklearn\\model_selection\\_validation.py\", line 680, in _fit_and_score\n",
      "    estimator.fit(X_train, y_train, **fit_params)\n",
      "  File \"c:\\Users\\M A R L E V I\\anaconda3\\lib\\site-packages\\sklearn\\pipeline.py\", line 394, in fit\n",
      "    self._final_estimator.fit(Xt, y, **fit_params_last_step)\n",
      "  File \"c:\\Users\\M A R L E V I\\anaconda3\\lib\\site-packages\\sklearn\\linear_model\\_ridge.py\", line 1011, in fit\n",
      "    return super().fit(X, y, sample_weight=sample_weight)\n",
      "  File \"c:\\Users\\M A R L E V I\\anaconda3\\lib\\site-packages\\sklearn\\linear_model\\_ridge.py\", line 720, in fit\n",
      "    raise ValueError(\n",
      "ValueError: solver='cholesky' does not support fitting the intercept on sparse data. Please set the solver to 'auto' or 'sparse_cg', 'sag', 'lbfgs' or set `fit_intercept=False`\n",
      "\n",
      "  warnings.warn(some_fits_failed_message, FitFailedWarning)\n",
      "c:\\Users\\M A R L E V I\\anaconda3\\lib\\site-packages\\sklearn\\model_selection\\_search.py:969: UserWarning: One or more of the test scores are non-finite: [0.59278423        nan        nan        nan]\n",
      "  warnings.warn(\n"
     ]
    }
   ],
   "source": [
    "# GridSearch for Ridge Regression\n",
    "\n",
    "params_rg = {\n",
    "    'Ridge__alpha':[12],\n",
    "    'Ridge__solver': ['auto', 'saga','svd','cholesky']\n",
    "}\n",
    "grid_rg = GridSearchCV(pipe_RG, param_grid = params_rg, cv=5).fit(X_train, y_train)\n",
    "\n",
    "# Make variable for Grid Best estimator\n",
    "grid_best_rg = grid_rg.best_estimator_\n",
    "\n",
    "# Pipeline Final\n",
    "grid_RG_final = Pipeline(\n",
    "    steps=[(\"grid_best_rg\", grid_best_rg)]\n",
    ")"
   ]
  },
  {
   "cell_type": "code",
   "execution_count": 58,
   "metadata": {},
   "outputs": [
    {
     "name": "stdout",
     "output_type": "stream",
     "text": [
      "Result Best Params\n",
      "best params: {'Ridge__alpha': 12, 'Ridge__solver': 'auto'}\n",
      "best score: 0.5927842259181261\n",
      "========================================\n",
      "Metrics R2 Score\n",
      "Train Results: 4932.99061710816\n",
      "Train Results: 5592.669211781286\n"
     ]
    }
   ],
   "source": [
    "print('Result Best Params')\n",
    "print('best params:', grid_rg.best_params_)\n",
    "print('best score:', grid_rg.best_score_)\n",
    "\n",
    "print('===================='*2)\n",
    "print('Metrics R2 Score')\n",
    "print('Train Results:',mean_absolute_error(y_train, grid_RG_final.predict(X_train)))\n",
    "print('Train Results:', mean_absolute_error(y_test, grid_RG_final.predict(X_test)))"
   ]
  },
  {
   "cell_type": "markdown",
   "metadata": {},
   "source": [
    "Based on the results we get that there is an increase in the error value, which means that the hyperparameters we use are not good enough in this model."
   ]
  },
  {
   "cell_type": "markdown",
   "metadata": {},
   "source": [
    "# **MODEL SAVING**"
   ]
  },
  {
   "cell_type": "markdown",
   "metadata": {},
   "source": [
    "We will do a saving model for deployment, where the model selection is based on the best error value."
   ]
  },
  {
   "cell_type": "code",
   "execution_count": 59,
   "metadata": {},
   "outputs": [],
   "source": [
    "# Save the best model\n",
    "with open('grid_KNR_final.pkl', 'wb') as file1:\n",
    "    pickle.dump(grid_KNR_final, file1)"
   ]
  },
  {
   "cell_type": "markdown",
   "metadata": {},
   "source": [
    "# **MODEL INFERENCE**"
   ]
  },
  {
   "cell_type": "markdown",
   "metadata": {},
   "source": [
    "The model that has been trained will be tested on data that is not included in the train-set or test-set. This data must be in the original format, not scaled data."
   ]
  },
  {
   "cell_type": "code",
   "execution_count": 60,
   "metadata": {},
   "outputs": [
    {
     "data": {
      "text/html": [
       "<div>\n",
       "<style scoped>\n",
       "    .dataframe tbody tr th:only-of-type {\n",
       "        vertical-align: middle;\n",
       "    }\n",
       "\n",
       "    .dataframe tbody tr th {\n",
       "        vertical-align: top;\n",
       "    }\n",
       "\n",
       "    .dataframe thead th {\n",
       "        text-align: right;\n",
       "    }\n",
       "</style>\n",
       "<table border=\"1\" class=\"dataframe\">\n",
       "  <thead>\n",
       "    <tr style=\"text-align: right;\">\n",
       "      <th></th>\n",
       "      <th>price</th>\n",
       "      <th>brand</th>\n",
       "      <th>model</th>\n",
       "      <th>year</th>\n",
       "      <th>title_status</th>\n",
       "      <th>mileage</th>\n",
       "      <th>color</th>\n",
       "    </tr>\n",
       "  </thead>\n",
       "  <tbody>\n",
       "    <tr>\n",
       "      <th>0</th>\n",
       "      <td>27999</td>\n",
       "      <td>ford</td>\n",
       "      <td>doors</td>\n",
       "      <td>2016</td>\n",
       "      <td>clean vehicle</td>\n",
       "      <td>10700.0</td>\n",
       "      <td>gray</td>\n",
       "    </tr>\n",
       "    <tr>\n",
       "      <th>1</th>\n",
       "      <td>4140</td>\n",
       "      <td>ford</td>\n",
       "      <td>door</td>\n",
       "      <td>2017</td>\n",
       "      <td>clean vehicle</td>\n",
       "      <td>40747.0</td>\n",
       "      <td>white</td>\n",
       "    </tr>\n",
       "    <tr>\n",
       "      <th>2</th>\n",
       "      <td>18000</td>\n",
       "      <td>mercedes-benz</td>\n",
       "      <td>door</td>\n",
       "      <td>2015</td>\n",
       "      <td>clean vehicle</td>\n",
       "      <td>82411.0</td>\n",
       "      <td>black</td>\n",
       "    </tr>\n",
       "    <tr>\n",
       "      <th>3</th>\n",
       "      <td>27000</td>\n",
       "      <td>ford</td>\n",
       "      <td>f-150</td>\n",
       "      <td>2018</td>\n",
       "      <td>clean vehicle</td>\n",
       "      <td>40577.0</td>\n",
       "      <td>black</td>\n",
       "    </tr>\n",
       "    <tr>\n",
       "      <th>4</th>\n",
       "      <td>20000</td>\n",
       "      <td>jeep</td>\n",
       "      <td>cherokee</td>\n",
       "      <td>2019</td>\n",
       "      <td>clean vehicle</td>\n",
       "      <td>38355.0</td>\n",
       "      <td>charcoal</td>\n",
       "    </tr>\n",
       "    <tr>\n",
       "      <th>5</th>\n",
       "      <td>22800</td>\n",
       "      <td>ford</td>\n",
       "      <td>f-150</td>\n",
       "      <td>2019</td>\n",
       "      <td>clean vehicle</td>\n",
       "      <td>13002.0</td>\n",
       "      <td>white</td>\n",
       "    </tr>\n",
       "    <tr>\n",
       "      <th>6</th>\n",
       "      <td>9300</td>\n",
       "      <td>ford</td>\n",
       "      <td>fiesta</td>\n",
       "      <td>2019</td>\n",
       "      <td>clean vehicle</td>\n",
       "      <td>32305.0</td>\n",
       "      <td>silver</td>\n",
       "    </tr>\n",
       "    <tr>\n",
       "      <th>7</th>\n",
       "      <td>12520</td>\n",
       "      <td>gmc</td>\n",
       "      <td>door</td>\n",
       "      <td>2017</td>\n",
       "      <td>clean vehicle</td>\n",
       "      <td>30114.0</td>\n",
       "      <td>white</td>\n",
       "    </tr>\n",
       "    <tr>\n",
       "      <th>8</th>\n",
       "      <td>28700</td>\n",
       "      <td>ford</td>\n",
       "      <td>f-150</td>\n",
       "      <td>2019</td>\n",
       "      <td>clean vehicle</td>\n",
       "      <td>13673.0</td>\n",
       "      <td>white</td>\n",
       "    </tr>\n",
       "    <tr>\n",
       "      <th>9</th>\n",
       "      <td>25800</td>\n",
       "      <td>ford</td>\n",
       "      <td>door</td>\n",
       "      <td>2014</td>\n",
       "      <td>clean vehicle</td>\n",
       "      <td>47055.0</td>\n",
       "      <td>brown</td>\n",
       "    </tr>\n",
       "    <tr>\n",
       "      <th>10</th>\n",
       "      <td>600</td>\n",
       "      <td>nissan</td>\n",
       "      <td>door</td>\n",
       "      <td>2012</td>\n",
       "      <td>salvage insurance</td>\n",
       "      <td>206142.0</td>\n",
       "      <td>silver</td>\n",
       "    </tr>\n",
       "    <tr>\n",
       "      <th>11</th>\n",
       "      <td>27300</td>\n",
       "      <td>chevrolet</td>\n",
       "      <td>ld</td>\n",
       "      <td>2019</td>\n",
       "      <td>clean vehicle</td>\n",
       "      <td>25427.0</td>\n",
       "      <td>black</td>\n",
       "    </tr>\n",
       "    <tr>\n",
       "      <th>12</th>\n",
       "      <td>6000</td>\n",
       "      <td>ford</td>\n",
       "      <td>door</td>\n",
       "      <td>2014</td>\n",
       "      <td>salvage insurance</td>\n",
       "      <td>125369.0</td>\n",
       "      <td>black</td>\n",
       "    </tr>\n",
       "    <tr>\n",
       "      <th>13</th>\n",
       "      <td>50000</td>\n",
       "      <td>ford</td>\n",
       "      <td>max</td>\n",
       "      <td>2019</td>\n",
       "      <td>clean vehicle</td>\n",
       "      <td>17995.0</td>\n",
       "      <td>black</td>\n",
       "    </tr>\n",
       "    <tr>\n",
       "      <th>14</th>\n",
       "      <td>10900</td>\n",
       "      <td>jeep</td>\n",
       "      <td>mpv</td>\n",
       "      <td>2019</td>\n",
       "      <td>clean vehicle</td>\n",
       "      <td>13273.0</td>\n",
       "      <td>red</td>\n",
       "    </tr>\n",
       "    <tr>\n",
       "      <th>15</th>\n",
       "      <td>15500</td>\n",
       "      <td>chevrolet</td>\n",
       "      <td>impala</td>\n",
       "      <td>2019</td>\n",
       "      <td>clean vehicle</td>\n",
       "      <td>29922.0</td>\n",
       "      <td>charcoal</td>\n",
       "    </tr>\n",
       "    <tr>\n",
       "      <th>16</th>\n",
       "      <td>26000</td>\n",
       "      <td>ford</td>\n",
       "      <td>wagon</td>\n",
       "      <td>2019</td>\n",
       "      <td>clean vehicle</td>\n",
       "      <td>23019.0</td>\n",
       "      <td>white</td>\n",
       "    </tr>\n",
       "    <tr>\n",
       "      <th>17</th>\n",
       "      <td>26200</td>\n",
       "      <td>ford</td>\n",
       "      <td>f-650</td>\n",
       "      <td>2015</td>\n",
       "      <td>clean vehicle</td>\n",
       "      <td>129063.0</td>\n",
       "      <td>white</td>\n",
       "    </tr>\n",
       "    <tr>\n",
       "      <th>18</th>\n",
       "      <td>16700</td>\n",
       "      <td>ford</td>\n",
       "      <td>fusion</td>\n",
       "      <td>2019</td>\n",
       "      <td>clean vehicle</td>\n",
       "      <td>36989.0</td>\n",
       "      <td>silver</td>\n",
       "    </tr>\n",
       "  </tbody>\n",
       "</table>\n",
       "</div>"
      ],
      "text/plain": [
       "    price          brand     model  year       title_status   mileage  \\\n",
       "0   27999           ford     doors  2016      clean vehicle   10700.0   \n",
       "1    4140           ford      door  2017      clean vehicle   40747.0   \n",
       "2   18000  mercedes-benz      door  2015      clean vehicle   82411.0   \n",
       "3   27000           ford     f-150  2018      clean vehicle   40577.0   \n",
       "4   20000           jeep  cherokee  2019      clean vehicle   38355.0   \n",
       "5   22800           ford     f-150  2019      clean vehicle   13002.0   \n",
       "6    9300           ford    fiesta  2019      clean vehicle   32305.0   \n",
       "7   12520            gmc      door  2017      clean vehicle   30114.0   \n",
       "8   28700           ford     f-150  2019      clean vehicle   13673.0   \n",
       "9   25800           ford      door  2014      clean vehicle   47055.0   \n",
       "10    600         nissan      door  2012  salvage insurance  206142.0   \n",
       "11  27300      chevrolet        ld  2019      clean vehicle   25427.0   \n",
       "12   6000           ford      door  2014  salvage insurance  125369.0   \n",
       "13  50000           ford       max  2019      clean vehicle   17995.0   \n",
       "14  10900           jeep       mpv  2019      clean vehicle   13273.0   \n",
       "15  15500      chevrolet    impala  2019      clean vehicle   29922.0   \n",
       "16  26000           ford     wagon  2019      clean vehicle   23019.0   \n",
       "17  26200           ford     f-650  2015      clean vehicle  129063.0   \n",
       "18  16700           ford    fusion  2019      clean vehicle   36989.0   \n",
       "\n",
       "       color  \n",
       "0       gray  \n",
       "1      white  \n",
       "2      black  \n",
       "3      black  \n",
       "4   charcoal  \n",
       "5      white  \n",
       "6     silver  \n",
       "7      white  \n",
       "8      white  \n",
       "9      brown  \n",
       "10    silver  \n",
       "11     black  \n",
       "12     black  \n",
       "13     black  \n",
       "14       red  \n",
       "15  charcoal  \n",
       "16     white  \n",
       "17     white  \n",
       "18    silver  "
      ]
     },
     "execution_count": 60,
     "metadata": {},
     "output_type": "execute_result"
    }
   ],
   "source": [
    "# Display data inference\n",
    "\n",
    "data_inference"
   ]
  },
  {
   "cell_type": "markdown",
   "metadata": {},
   "source": [
    "Next, the kit will handle the missing values contained in the data inference"
   ]
  },
  {
   "cell_type": "code",
   "execution_count": 61,
   "metadata": {},
   "outputs": [
    {
     "data": {
      "text/plain": [
       "price           0\n",
       "brand           0\n",
       "model           0\n",
       "year            0\n",
       "title_status    0\n",
       "mileage         0\n",
       "color           0\n",
       "dtype: int64"
      ]
     },
     "execution_count": 61,
     "metadata": {},
     "output_type": "execute_result"
    }
   ],
   "source": [
    "data_inference.isnull().sum()"
   ]
  },
  {
   "cell_type": "markdown",
   "metadata": {},
   "source": [
    "From the results we get, it turns out that in the inference data there is no missing value, then we will separate the price column, because that column is the target for which predictions will be made."
   ]
  },
  {
   "cell_type": "code",
   "execution_count": 62,
   "metadata": {},
   "outputs": [
    {
     "data": {
      "text/html": [
       "<div>\n",
       "<style scoped>\n",
       "    .dataframe tbody tr th:only-of-type {\n",
       "        vertical-align: middle;\n",
       "    }\n",
       "\n",
       "    .dataframe tbody tr th {\n",
       "        vertical-align: top;\n",
       "    }\n",
       "\n",
       "    .dataframe thead th {\n",
       "        text-align: right;\n",
       "    }\n",
       "</style>\n",
       "<table border=\"1\" class=\"dataframe\">\n",
       "  <thead>\n",
       "    <tr style=\"text-align: right;\">\n",
       "      <th></th>\n",
       "      <th>brand</th>\n",
       "      <th>model</th>\n",
       "      <th>year</th>\n",
       "      <th>title_status</th>\n",
       "      <th>mileage</th>\n",
       "      <th>color</th>\n",
       "    </tr>\n",
       "  </thead>\n",
       "  <tbody>\n",
       "    <tr>\n",
       "      <th>0</th>\n",
       "      <td>ford</td>\n",
       "      <td>doors</td>\n",
       "      <td>2016</td>\n",
       "      <td>clean vehicle</td>\n",
       "      <td>10700.0</td>\n",
       "      <td>gray</td>\n",
       "    </tr>\n",
       "    <tr>\n",
       "      <th>1</th>\n",
       "      <td>ford</td>\n",
       "      <td>door</td>\n",
       "      <td>2017</td>\n",
       "      <td>clean vehicle</td>\n",
       "      <td>40747.0</td>\n",
       "      <td>white</td>\n",
       "    </tr>\n",
       "    <tr>\n",
       "      <th>2</th>\n",
       "      <td>mercedes-benz</td>\n",
       "      <td>door</td>\n",
       "      <td>2015</td>\n",
       "      <td>clean vehicle</td>\n",
       "      <td>82411.0</td>\n",
       "      <td>black</td>\n",
       "    </tr>\n",
       "    <tr>\n",
       "      <th>3</th>\n",
       "      <td>ford</td>\n",
       "      <td>f-150</td>\n",
       "      <td>2018</td>\n",
       "      <td>clean vehicle</td>\n",
       "      <td>40577.0</td>\n",
       "      <td>black</td>\n",
       "    </tr>\n",
       "    <tr>\n",
       "      <th>4</th>\n",
       "      <td>jeep</td>\n",
       "      <td>cherokee</td>\n",
       "      <td>2019</td>\n",
       "      <td>clean vehicle</td>\n",
       "      <td>38355.0</td>\n",
       "      <td>charcoal</td>\n",
       "    </tr>\n",
       "    <tr>\n",
       "      <th>5</th>\n",
       "      <td>ford</td>\n",
       "      <td>f-150</td>\n",
       "      <td>2019</td>\n",
       "      <td>clean vehicle</td>\n",
       "      <td>13002.0</td>\n",
       "      <td>white</td>\n",
       "    </tr>\n",
       "    <tr>\n",
       "      <th>6</th>\n",
       "      <td>ford</td>\n",
       "      <td>fiesta</td>\n",
       "      <td>2019</td>\n",
       "      <td>clean vehicle</td>\n",
       "      <td>32305.0</td>\n",
       "      <td>silver</td>\n",
       "    </tr>\n",
       "    <tr>\n",
       "      <th>7</th>\n",
       "      <td>gmc</td>\n",
       "      <td>door</td>\n",
       "      <td>2017</td>\n",
       "      <td>clean vehicle</td>\n",
       "      <td>30114.0</td>\n",
       "      <td>white</td>\n",
       "    </tr>\n",
       "    <tr>\n",
       "      <th>8</th>\n",
       "      <td>ford</td>\n",
       "      <td>f-150</td>\n",
       "      <td>2019</td>\n",
       "      <td>clean vehicle</td>\n",
       "      <td>13673.0</td>\n",
       "      <td>white</td>\n",
       "    </tr>\n",
       "    <tr>\n",
       "      <th>9</th>\n",
       "      <td>ford</td>\n",
       "      <td>door</td>\n",
       "      <td>2014</td>\n",
       "      <td>clean vehicle</td>\n",
       "      <td>47055.0</td>\n",
       "      <td>brown</td>\n",
       "    </tr>\n",
       "    <tr>\n",
       "      <th>10</th>\n",
       "      <td>nissan</td>\n",
       "      <td>door</td>\n",
       "      <td>2012</td>\n",
       "      <td>salvage insurance</td>\n",
       "      <td>206142.0</td>\n",
       "      <td>silver</td>\n",
       "    </tr>\n",
       "    <tr>\n",
       "      <th>11</th>\n",
       "      <td>chevrolet</td>\n",
       "      <td>ld</td>\n",
       "      <td>2019</td>\n",
       "      <td>clean vehicle</td>\n",
       "      <td>25427.0</td>\n",
       "      <td>black</td>\n",
       "    </tr>\n",
       "    <tr>\n",
       "      <th>12</th>\n",
       "      <td>ford</td>\n",
       "      <td>door</td>\n",
       "      <td>2014</td>\n",
       "      <td>salvage insurance</td>\n",
       "      <td>125369.0</td>\n",
       "      <td>black</td>\n",
       "    </tr>\n",
       "    <tr>\n",
       "      <th>13</th>\n",
       "      <td>ford</td>\n",
       "      <td>max</td>\n",
       "      <td>2019</td>\n",
       "      <td>clean vehicle</td>\n",
       "      <td>17995.0</td>\n",
       "      <td>black</td>\n",
       "    </tr>\n",
       "    <tr>\n",
       "      <th>14</th>\n",
       "      <td>jeep</td>\n",
       "      <td>mpv</td>\n",
       "      <td>2019</td>\n",
       "      <td>clean vehicle</td>\n",
       "      <td>13273.0</td>\n",
       "      <td>red</td>\n",
       "    </tr>\n",
       "    <tr>\n",
       "      <th>15</th>\n",
       "      <td>chevrolet</td>\n",
       "      <td>impala</td>\n",
       "      <td>2019</td>\n",
       "      <td>clean vehicle</td>\n",
       "      <td>29922.0</td>\n",
       "      <td>charcoal</td>\n",
       "    </tr>\n",
       "    <tr>\n",
       "      <th>16</th>\n",
       "      <td>ford</td>\n",
       "      <td>wagon</td>\n",
       "      <td>2019</td>\n",
       "      <td>clean vehicle</td>\n",
       "      <td>23019.0</td>\n",
       "      <td>white</td>\n",
       "    </tr>\n",
       "    <tr>\n",
       "      <th>17</th>\n",
       "      <td>ford</td>\n",
       "      <td>f-650</td>\n",
       "      <td>2015</td>\n",
       "      <td>clean vehicle</td>\n",
       "      <td>129063.0</td>\n",
       "      <td>white</td>\n",
       "    </tr>\n",
       "    <tr>\n",
       "      <th>18</th>\n",
       "      <td>ford</td>\n",
       "      <td>fusion</td>\n",
       "      <td>2019</td>\n",
       "      <td>clean vehicle</td>\n",
       "      <td>36989.0</td>\n",
       "      <td>silver</td>\n",
       "    </tr>\n",
       "  </tbody>\n",
       "</table>\n",
       "</div>"
      ],
      "text/plain": [
       "            brand     model  year       title_status   mileage     color\n",
       "0            ford     doors  2016      clean vehicle   10700.0      gray\n",
       "1            ford      door  2017      clean vehicle   40747.0     white\n",
       "2   mercedes-benz      door  2015      clean vehicle   82411.0     black\n",
       "3            ford     f-150  2018      clean vehicle   40577.0     black\n",
       "4            jeep  cherokee  2019      clean vehicle   38355.0  charcoal\n",
       "5            ford     f-150  2019      clean vehicle   13002.0     white\n",
       "6            ford    fiesta  2019      clean vehicle   32305.0    silver\n",
       "7             gmc      door  2017      clean vehicle   30114.0     white\n",
       "8            ford     f-150  2019      clean vehicle   13673.0     white\n",
       "9            ford      door  2014      clean vehicle   47055.0     brown\n",
       "10         nissan      door  2012  salvage insurance  206142.0    silver\n",
       "11      chevrolet        ld  2019      clean vehicle   25427.0     black\n",
       "12           ford      door  2014  salvage insurance  125369.0     black\n",
       "13           ford       max  2019      clean vehicle   17995.0     black\n",
       "14           jeep       mpv  2019      clean vehicle   13273.0       red\n",
       "15      chevrolet    impala  2019      clean vehicle   29922.0  charcoal\n",
       "16           ford     wagon  2019      clean vehicle   23019.0     white\n",
       "17           ford     f-650  2015      clean vehicle  129063.0     white\n",
       "18           ford    fusion  2019      clean vehicle   36989.0    silver"
      ]
     },
     "execution_count": 62,
     "metadata": {},
     "output_type": "execute_result"
    }
   ],
   "source": [
    "# Drop columns\n",
    "\n",
    "data_inf = data_inference.drop(['price'], axis=1)\n",
    "data_inf"
   ]
  },
  {
   "cell_type": "markdown",
   "metadata": {},
   "source": [
    "When finished we will make predictions with all the models that we have made before."
   ]
  },
  {
   "cell_type": "code",
   "execution_count": 63,
   "metadata": {},
   "outputs": [],
   "source": [
    "# Predict Data Inference\n",
    "\n",
    "pred_lasso_inf = grid_Lasso_final.predict(data_inf)\n",
    "pred_svr_inf = grid_SVR_final.predict(data_inf)\n",
    "pred_knr_inf = grid_KNR_final.predict(data_inf)\n",
    "pred_rg_inf = grid_RG_final.predict(data_inf)"
   ]
  },
  {
   "cell_type": "markdown",
   "metadata": {},
   "source": [
    "After predicting, we will create a data frame to see the results more clearly."
   ]
  },
  {
   "cell_type": "code",
   "execution_count": 64,
   "metadata": {},
   "outputs": [],
   "source": [
    "lasso_df = pd.DataFrame(pred_lasso_inf, columns=['Lasso(Predict)'])\n",
    "svr_df = pd.DataFrame(pred_svr_inf, columns=['SVR(Predict)'])\n",
    "knr_df = pd.DataFrame(pred_knr_inf, columns=['KNR(Predict)'])\n",
    "rg_df = pd.DataFrame(pred_rg_inf, columns=['Ridge(Predict)'])"
   ]
  },
  {
   "cell_type": "markdown",
   "metadata": {},
   "source": [
    "Concating data inference and data frame prediction results."
   ]
  },
  {
   "cell_type": "code",
   "execution_count": 65,
   "metadata": {},
   "outputs": [
    {
     "data": {
      "text/html": [
       "<div>\n",
       "<style scoped>\n",
       "    .dataframe tbody tr th:only-of-type {\n",
       "        vertical-align: middle;\n",
       "    }\n",
       "\n",
       "    .dataframe tbody tr th {\n",
       "        vertical-align: top;\n",
       "    }\n",
       "\n",
       "    .dataframe thead th {\n",
       "        text-align: right;\n",
       "    }\n",
       "</style>\n",
       "<table border=\"1\" class=\"dataframe\">\n",
       "  <thead>\n",
       "    <tr style=\"text-align: right;\">\n",
       "      <th></th>\n",
       "      <th>price</th>\n",
       "      <th>brand</th>\n",
       "      <th>model</th>\n",
       "      <th>year</th>\n",
       "      <th>title_status</th>\n",
       "      <th>mileage</th>\n",
       "      <th>color</th>\n",
       "      <th>Lasso(Predict)</th>\n",
       "      <th>SVR(Predict)</th>\n",
       "      <th>KNR(Predict)</th>\n",
       "      <th>Ridge(Predict)</th>\n",
       "    </tr>\n",
       "  </thead>\n",
       "  <tbody>\n",
       "    <tr>\n",
       "      <th>0</th>\n",
       "      <td>27999</td>\n",
       "      <td>ford</td>\n",
       "      <td>doors</td>\n",
       "      <td>2016</td>\n",
       "      <td>clean vehicle</td>\n",
       "      <td>10700.0</td>\n",
       "      <td>gray</td>\n",
       "      <td>19762.854871</td>\n",
       "      <td>20727.570975</td>\n",
       "      <td>22574.10</td>\n",
       "      <td>21001.836037</td>\n",
       "    </tr>\n",
       "    <tr>\n",
       "      <th>1</th>\n",
       "      <td>4140</td>\n",
       "      <td>ford</td>\n",
       "      <td>door</td>\n",
       "      <td>2017</td>\n",
       "      <td>clean vehicle</td>\n",
       "      <td>40747.0</td>\n",
       "      <td>white</td>\n",
       "      <td>20462.601490</td>\n",
       "      <td>17481.445468</td>\n",
       "      <td>21891.00</td>\n",
       "      <td>20306.803072</td>\n",
       "    </tr>\n",
       "    <tr>\n",
       "      <th>2</th>\n",
       "      <td>18000</td>\n",
       "      <td>mercedes-benz</td>\n",
       "      <td>door</td>\n",
       "      <td>2015</td>\n",
       "      <td>clean vehicle</td>\n",
       "      <td>82411.0</td>\n",
       "      <td>black</td>\n",
       "      <td>20346.215408</td>\n",
       "      <td>20567.519963</td>\n",
       "      <td>14504.75</td>\n",
       "      <td>17598.857790</td>\n",
       "    </tr>\n",
       "    <tr>\n",
       "      <th>3</th>\n",
       "      <td>27000</td>\n",
       "      <td>ford</td>\n",
       "      <td>f-150</td>\n",
       "      <td>2018</td>\n",
       "      <td>clean vehicle</td>\n",
       "      <td>40577.0</td>\n",
       "      <td>black</td>\n",
       "      <td>26875.436054</td>\n",
       "      <td>25687.686387</td>\n",
       "      <td>30686.00</td>\n",
       "      <td>26937.463551</td>\n",
       "    </tr>\n",
       "    <tr>\n",
       "      <th>4</th>\n",
       "      <td>20000</td>\n",
       "      <td>jeep</td>\n",
       "      <td>cherokee</td>\n",
       "      <td>2019</td>\n",
       "      <td>clean vehicle</td>\n",
       "      <td>38355.0</td>\n",
       "      <td>charcoal</td>\n",
       "      <td>18917.898117</td>\n",
       "      <td>20483.305151</td>\n",
       "      <td>15044.00</td>\n",
       "      <td>18591.344803</td>\n",
       "    </tr>\n",
       "    <tr>\n",
       "      <th>5</th>\n",
       "      <td>22800</td>\n",
       "      <td>ford</td>\n",
       "      <td>f-150</td>\n",
       "      <td>2019</td>\n",
       "      <td>clean vehicle</td>\n",
       "      <td>13002.0</td>\n",
       "      <td>white</td>\n",
       "      <td>29329.102523</td>\n",
       "      <td>28231.922525</td>\n",
       "      <td>28235.70</td>\n",
       "      <td>29247.898107</td>\n",
       "    </tr>\n",
       "    <tr>\n",
       "      <th>6</th>\n",
       "      <td>9300</td>\n",
       "      <td>ford</td>\n",
       "      <td>fiesta</td>\n",
       "      <td>2019</td>\n",
       "      <td>clean vehicle</td>\n",
       "      <td>32305.0</td>\n",
       "      <td>silver</td>\n",
       "      <td>8226.170944</td>\n",
       "      <td>9246.833692</td>\n",
       "      <td>20630.00</td>\n",
       "      <td>17304.029151</td>\n",
       "    </tr>\n",
       "    <tr>\n",
       "      <th>7</th>\n",
       "      <td>12520</td>\n",
       "      <td>gmc</td>\n",
       "      <td>door</td>\n",
       "      <td>2017</td>\n",
       "      <td>clean vehicle</td>\n",
       "      <td>30114.0</td>\n",
       "      <td>white</td>\n",
       "      <td>17962.786752</td>\n",
       "      <td>16019.555886</td>\n",
       "      <td>14290.55</td>\n",
       "      <td>16886.562508</td>\n",
       "    </tr>\n",
       "    <tr>\n",
       "      <th>8</th>\n",
       "      <td>28700</td>\n",
       "      <td>ford</td>\n",
       "      <td>f-150</td>\n",
       "      <td>2019</td>\n",
       "      <td>clean vehicle</td>\n",
       "      <td>13673.0</td>\n",
       "      <td>white</td>\n",
       "      <td>29254.649268</td>\n",
       "      <td>28156.057242</td>\n",
       "      <td>28396.40</td>\n",
       "      <td>29172.687307</td>\n",
       "    </tr>\n",
       "    <tr>\n",
       "      <th>9</th>\n",
       "      <td>25800</td>\n",
       "      <td>ford</td>\n",
       "      <td>door</td>\n",
       "      <td>2014</td>\n",
       "      <td>clean vehicle</td>\n",
       "      <td>47055.0</td>\n",
       "      <td>brown</td>\n",
       "      <td>18917.521517</td>\n",
       "      <td>14942.788538</td>\n",
       "      <td>23075.60</td>\n",
       "      <td>19790.109450</td>\n",
       "    </tr>\n",
       "    <tr>\n",
       "      <th>10</th>\n",
       "      <td>600</td>\n",
       "      <td>nissan</td>\n",
       "      <td>door</td>\n",
       "      <td>2012</td>\n",
       "      <td>salvage insurance</td>\n",
       "      <td>206142.0</td>\n",
       "      <td>silver</td>\n",
       "      <td>-15736.961177</td>\n",
       "      <td>-13728.692979</td>\n",
       "      <td>2630.25</td>\n",
       "      <td>-16006.417189</td>\n",
       "    </tr>\n",
       "    <tr>\n",
       "      <th>11</th>\n",
       "      <td>27300</td>\n",
       "      <td>chevrolet</td>\n",
       "      <td>ld</td>\n",
       "      <td>2019</td>\n",
       "      <td>clean vehicle</td>\n",
       "      <td>25427.0</td>\n",
       "      <td>black</td>\n",
       "      <td>21992.864160</td>\n",
       "      <td>23456.726104</td>\n",
       "      <td>26410.55</td>\n",
       "      <td>24366.494405</td>\n",
       "    </tr>\n",
       "    <tr>\n",
       "      <th>12</th>\n",
       "      <td>6000</td>\n",
       "      <td>ford</td>\n",
       "      <td>door</td>\n",
       "      <td>2014</td>\n",
       "      <td>salvage insurance</td>\n",
       "      <td>125369.0</td>\n",
       "      <td>black</td>\n",
       "      <td>4099.367941</td>\n",
       "      <td>3110.708512</td>\n",
       "      <td>6580.00</td>\n",
       "      <td>3761.907734</td>\n",
       "    </tr>\n",
       "    <tr>\n",
       "      <th>13</th>\n",
       "      <td>50000</td>\n",
       "      <td>ford</td>\n",
       "      <td>max</td>\n",
       "      <td>2019</td>\n",
       "      <td>clean vehicle</td>\n",
       "      <td>17995.0</td>\n",
       "      <td>black</td>\n",
       "      <td>45596.147057</td>\n",
       "      <td>47305.026597</td>\n",
       "      <td>34860.10</td>\n",
       "      <td>40904.129459</td>\n",
       "    </tr>\n",
       "    <tr>\n",
       "      <th>14</th>\n",
       "      <td>10900</td>\n",
       "      <td>jeep</td>\n",
       "      <td>mpv</td>\n",
       "      <td>2019</td>\n",
       "      <td>clean vehicle</td>\n",
       "      <td>13273.0</td>\n",
       "      <td>red</td>\n",
       "      <td>10562.075188</td>\n",
       "      <td>10509.036838</td>\n",
       "      <td>9636.00</td>\n",
       "      <td>10968.506337</td>\n",
       "    </tr>\n",
       "    <tr>\n",
       "      <th>15</th>\n",
       "      <td>15500</td>\n",
       "      <td>chevrolet</td>\n",
       "      <td>impala</td>\n",
       "      <td>2019</td>\n",
       "      <td>clean vehicle</td>\n",
       "      <td>29922.0</td>\n",
       "      <td>charcoal</td>\n",
       "      <td>17997.277927</td>\n",
       "      <td>16352.220768</td>\n",
       "      <td>18020.00</td>\n",
       "      <td>20276.830528</td>\n",
       "    </tr>\n",
       "    <tr>\n",
       "      <th>16</th>\n",
       "      <td>26000</td>\n",
       "      <td>ford</td>\n",
       "      <td>wagon</td>\n",
       "      <td>2019</td>\n",
       "      <td>clean vehicle</td>\n",
       "      <td>23019.0</td>\n",
       "      <td>white</td>\n",
       "      <td>24797.489099</td>\n",
       "      <td>25605.409268</td>\n",
       "      <td>24312.70</td>\n",
       "      <td>25076.576498</td>\n",
       "    </tr>\n",
       "    <tr>\n",
       "      <th>17</th>\n",
       "      <td>26200</td>\n",
       "      <td>ford</td>\n",
       "      <td>f-650</td>\n",
       "      <td>2015</td>\n",
       "      <td>clean vehicle</td>\n",
       "      <td>129063.0</td>\n",
       "      <td>white</td>\n",
       "      <td>31637.099177</td>\n",
       "      <td>23550.168056</td>\n",
       "      <td>16489.50</td>\n",
       "      <td>16126.604728</td>\n",
       "    </tr>\n",
       "    <tr>\n",
       "      <th>18</th>\n",
       "      <td>16700</td>\n",
       "      <td>ford</td>\n",
       "      <td>fusion</td>\n",
       "      <td>2019</td>\n",
       "      <td>clean vehicle</td>\n",
       "      <td>36989.0</td>\n",
       "      <td>silver</td>\n",
       "      <td>13872.697827</td>\n",
       "      <td>14516.577429</td>\n",
       "      <td>19125.00</td>\n",
       "      <td>15633.547411</td>\n",
       "    </tr>\n",
       "  </tbody>\n",
       "</table>\n",
       "</div>"
      ],
      "text/plain": [
       "    price          brand     model  year       title_status   mileage  \\\n",
       "0   27999           ford     doors  2016      clean vehicle   10700.0   \n",
       "1    4140           ford      door  2017      clean vehicle   40747.0   \n",
       "2   18000  mercedes-benz      door  2015      clean vehicle   82411.0   \n",
       "3   27000           ford     f-150  2018      clean vehicle   40577.0   \n",
       "4   20000           jeep  cherokee  2019      clean vehicle   38355.0   \n",
       "5   22800           ford     f-150  2019      clean vehicle   13002.0   \n",
       "6    9300           ford    fiesta  2019      clean vehicle   32305.0   \n",
       "7   12520            gmc      door  2017      clean vehicle   30114.0   \n",
       "8   28700           ford     f-150  2019      clean vehicle   13673.0   \n",
       "9   25800           ford      door  2014      clean vehicle   47055.0   \n",
       "10    600         nissan      door  2012  salvage insurance  206142.0   \n",
       "11  27300      chevrolet        ld  2019      clean vehicle   25427.0   \n",
       "12   6000           ford      door  2014  salvage insurance  125369.0   \n",
       "13  50000           ford       max  2019      clean vehicle   17995.0   \n",
       "14  10900           jeep       mpv  2019      clean vehicle   13273.0   \n",
       "15  15500      chevrolet    impala  2019      clean vehicle   29922.0   \n",
       "16  26000           ford     wagon  2019      clean vehicle   23019.0   \n",
       "17  26200           ford     f-650  2015      clean vehicle  129063.0   \n",
       "18  16700           ford    fusion  2019      clean vehicle   36989.0   \n",
       "\n",
       "       color  Lasso(Predict)  SVR(Predict)  KNR(Predict)  Ridge(Predict)  \n",
       "0       gray    19762.854871  20727.570975      22574.10    21001.836037  \n",
       "1      white    20462.601490  17481.445468      21891.00    20306.803072  \n",
       "2      black    20346.215408  20567.519963      14504.75    17598.857790  \n",
       "3      black    26875.436054  25687.686387      30686.00    26937.463551  \n",
       "4   charcoal    18917.898117  20483.305151      15044.00    18591.344803  \n",
       "5      white    29329.102523  28231.922525      28235.70    29247.898107  \n",
       "6     silver     8226.170944   9246.833692      20630.00    17304.029151  \n",
       "7      white    17962.786752  16019.555886      14290.55    16886.562508  \n",
       "8      white    29254.649268  28156.057242      28396.40    29172.687307  \n",
       "9      brown    18917.521517  14942.788538      23075.60    19790.109450  \n",
       "10    silver   -15736.961177 -13728.692979       2630.25   -16006.417189  \n",
       "11     black    21992.864160  23456.726104      26410.55    24366.494405  \n",
       "12     black     4099.367941   3110.708512       6580.00     3761.907734  \n",
       "13     black    45596.147057  47305.026597      34860.10    40904.129459  \n",
       "14       red    10562.075188  10509.036838       9636.00    10968.506337  \n",
       "15  charcoal    17997.277927  16352.220768      18020.00    20276.830528  \n",
       "16     white    24797.489099  25605.409268      24312.70    25076.576498  \n",
       "17     white    31637.099177  23550.168056      16489.50    16126.604728  \n",
       "18    silver    13872.697827  14516.577429      19125.00    15633.547411  "
      ]
     },
     "execution_count": 65,
     "metadata": {},
     "output_type": "execute_result"
    }
   ],
   "source": [
    "# Melakukan Concat\n",
    "\n",
    "prediction = pd.concat([data_inference, lasso_df, svr_df, knr_df, rg_df], axis=1)\n",
    "prediction"
   ]
  },
  {
   "cell_type": "markdown",
   "metadata": {},
   "source": [
    "The results show that our model has successfully predicted the new data."
   ]
  },
  {
   "cell_type": "markdown",
   "metadata": {},
   "source": [
    "# **OVERALL ANALYSIS**"
   ]
  },
  {
   "cell_type": "markdown",
   "metadata": {},
   "source": [
    "In this modeling, I have done 4 modeling algorithms with the best results obtained from the K-Nearest Neighbor model. The model has a high error value compared to other algorithms, but the KNN Regression model has a not-so-high error range between the Train set and the Test set, which means that this model can be considered a good fit in the case of the error range.\n",
    "\n",
    "Evaluation Errors:\n",
    "\n",
    "* The model that has the best value is obtained from the K-Nearest Neighbor model\n",
    "* We gain insight from modeling that the SVR model has a good error reduction after modeling improvement using the pipeline.\n",
    "\n",
    "## Conclusion\n",
    "\n",
    "Based on the insights we get from EDA all features and models can be very influential in modeling, and our dataset is also very good data to use in classification cases. Our dataset also provides good insight for making decisions, as we know in the outliers column there are several decisions that must be made and one of them is based on the EDA that we made, namely from EDA, besides that our dataset can also provide good features so that we getting error with mean 4000\n",
    "\n",
    "Even though it has gotten a pretty good score and got fairly good results, this model has things that need to be improved for the future, namely:\n",
    "\n",
    "* Addition of data, because I think the data I have is still not enough for modeling\n",
    "* add features, add features to add learning\n",
    "* perform hyperparameter settings that are more suitable for the model."
   ]
  }
 ],
 "metadata": {
  "interpreter": {
   "hash": "16f6a18b95dcc4608cbbf2ad3c29c4a0f9bbd76db4ffc5d00a28ce35a13abf4c"
  },
  "kernelspec": {
   "display_name": "Python 3.9.7 ('base')",
   "language": "python",
   "name": "python3"
  },
  "language_info": {
   "codemirror_mode": {
    "name": "ipython",
    "version": 3
   },
   "file_extension": ".py",
   "mimetype": "text/x-python",
   "name": "python",
   "nbconvert_exporter": "python",
   "pygments_lexer": "ipython3",
   "version": "3.9.7"
  },
  "orig_nbformat": 4
 },
 "nbformat": 4,
 "nbformat_minor": 2
}
